{
  "cells": [
    {
      "cell_type": "markdown",
      "metadata": {
        "id": "TqWMyhl3zCrl"
      },
      "source": [
        "# 1. Setup"
      ]
    },
    {
      "cell_type": "markdown",
      "metadata": {
        "id": "PCtyMcfvzCrt"
      },
      "source": [
        "## 1.1 Install Dependencies"
      ]
    },
    {
      "cell_type": "code",
      "execution_count": null,
      "metadata": {
        "colab": {
          "base_uri": "https://localhost:8080/",
          "height": 1000
        },
        "id": "gsLCzTUVzCru",
        "outputId": "c1e9456b-add2-4414-a4c1-60d37fd6e398"
      },
      "outputs": [
        {
          "output_type": "stream",
          "name": "stdout",
          "text": [
            "Looking in indexes: https://pypi.org/simple, https://us-python.pkg.dev/colab-wheels/public/simple/\n",
            "Collecting tensorflow==2.4.1\n",
            "  Downloading tensorflow-2.4.1-cp37-cp37m-manylinux2010_x86_64.whl (394.3 MB)\n",
            "\u001b[K     |████████████████████████████████| 394.3 MB 9.9 kB/s \n",
            "\u001b[?25hCollecting tensorflow-gpu==2.4.1\n",
            "  Downloading tensorflow_gpu-2.4.1-cp37-cp37m-manylinux2010_x86_64.whl (394.3 MB)\n",
            "\u001b[K     |████████████████████████████████| 394.3 MB 16 kB/s \n",
            "\u001b[?25hRequirement already satisfied: opencv-python in /usr/local/lib/python3.7/dist-packages (4.6.0.66)\n",
            "Requirement already satisfied: matplotlib in /usr/local/lib/python3.7/dist-packages (3.2.2)\n",
            "Requirement already satisfied: opt-einsum~=3.3.0 in /usr/local/lib/python3.7/dist-packages (from tensorflow==2.4.1) (3.3.0)\n",
            "Collecting absl-py~=0.10\n",
            "  Downloading absl_py-0.15.0-py3-none-any.whl (132 kB)\n",
            "\u001b[K     |████████████████████████████████| 132 kB 74.8 MB/s \n",
            "\u001b[?25hCollecting h5py~=2.10.0\n",
            "  Downloading h5py-2.10.0-cp37-cp37m-manylinux1_x86_64.whl (2.9 MB)\n",
            "\u001b[K     |████████████████████████████████| 2.9 MB 44.0 MB/s \n",
            "\u001b[?25hCollecting wrapt~=1.12.1\n",
            "  Downloading wrapt-1.12.1.tar.gz (27 kB)\n",
            "Requirement already satisfied: google-pasta~=0.2 in /usr/local/lib/python3.7/dist-packages (from tensorflow==2.4.1) (0.2.0)\n",
            "Requirement already satisfied: keras-preprocessing~=1.1.2 in /usr/local/lib/python3.7/dist-packages (from tensorflow==2.4.1) (1.1.2)\n",
            "Collecting typing-extensions~=3.7.4\n",
            "  Downloading typing_extensions-3.7.4.3-py3-none-any.whl (22 kB)\n",
            "Collecting tensorflow-estimator<2.5.0,>=2.4.0\n",
            "  Downloading tensorflow_estimator-2.4.0-py2.py3-none-any.whl (462 kB)\n",
            "\u001b[K     |████████████████████████████████| 462 kB 69.6 MB/s \n",
            "\u001b[?25hRequirement already satisfied: astunparse~=1.6.3 in /usr/local/lib/python3.7/dist-packages (from tensorflow==2.4.1) (1.6.3)\n",
            "Requirement already satisfied: wheel~=0.35 in /usr/local/lib/python3.7/dist-packages (from tensorflow==2.4.1) (0.37.1)\n",
            "Requirement already satisfied: six~=1.15.0 in /usr/local/lib/python3.7/dist-packages (from tensorflow==2.4.1) (1.15.0)\n",
            "Collecting numpy~=1.19.2\n",
            "  Downloading numpy-1.19.5-cp37-cp37m-manylinux2010_x86_64.whl (14.8 MB)\n",
            "\u001b[K     |████████████████████████████████| 14.8 MB 60.9 MB/s \n",
            "\u001b[?25hRequirement already satisfied: termcolor~=1.1.0 in /usr/local/lib/python3.7/dist-packages (from tensorflow==2.4.1) (1.1.0)\n",
            "Collecting gast==0.3.3\n",
            "  Downloading gast-0.3.3-py2.py3-none-any.whl (9.7 kB)\n",
            "Collecting flatbuffers~=1.12.0\n",
            "  Downloading flatbuffers-1.12-py2.py3-none-any.whl (15 kB)\n",
            "Requirement already satisfied: tensorboard~=2.4 in /usr/local/lib/python3.7/dist-packages (from tensorflow==2.4.1) (2.8.0)\n",
            "Collecting grpcio~=1.32.0\n",
            "  Downloading grpcio-1.32.0-cp37-cp37m-manylinux2014_x86_64.whl (3.8 MB)\n",
            "\u001b[K     |████████████████████████████████| 3.8 MB 58.0 MB/s \n",
            "\u001b[?25hRequirement already satisfied: protobuf>=3.9.2 in /usr/local/lib/python3.7/dist-packages (from tensorflow==2.4.1) (3.17.3)\n",
            "Requirement already satisfied: google-auth<3,>=1.6.3 in /usr/local/lib/python3.7/dist-packages (from tensorboard~=2.4->tensorflow==2.4.1) (1.35.0)\n",
            "Requirement already satisfied: google-auth-oauthlib<0.5,>=0.4.1 in /usr/local/lib/python3.7/dist-packages (from tensorboard~=2.4->tensorflow==2.4.1) (0.4.6)\n",
            "Requirement already satisfied: tensorboard-data-server<0.7.0,>=0.6.0 in /usr/local/lib/python3.7/dist-packages (from tensorboard~=2.4->tensorflow==2.4.1) (0.6.1)\n",
            "Requirement already satisfied: tensorboard-plugin-wit>=1.6.0 in /usr/local/lib/python3.7/dist-packages (from tensorboard~=2.4->tensorflow==2.4.1) (1.8.1)\n",
            "Requirement already satisfied: requests<3,>=2.21.0 in /usr/local/lib/python3.7/dist-packages (from tensorboard~=2.4->tensorflow==2.4.1) (2.23.0)\n",
            "Requirement already satisfied: werkzeug>=0.11.15 in /usr/local/lib/python3.7/dist-packages (from tensorboard~=2.4->tensorflow==2.4.1) (1.0.1)\n",
            "Requirement already satisfied: setuptools>=41.0.0 in /usr/local/lib/python3.7/dist-packages (from tensorboard~=2.4->tensorflow==2.4.1) (57.4.0)\n",
            "Requirement already satisfied: markdown>=2.6.8 in /usr/local/lib/python3.7/dist-packages (from tensorboard~=2.4->tensorflow==2.4.1) (3.4.1)\n",
            "Requirement already satisfied: cachetools<5.0,>=2.0.0 in /usr/local/lib/python3.7/dist-packages (from google-auth<3,>=1.6.3->tensorboard~=2.4->tensorflow==2.4.1) (4.2.4)\n",
            "Requirement already satisfied: pyasn1-modules>=0.2.1 in /usr/local/lib/python3.7/dist-packages (from google-auth<3,>=1.6.3->tensorboard~=2.4->tensorflow==2.4.1) (0.2.8)\n",
            "Requirement already satisfied: rsa<5,>=3.1.4 in /usr/local/lib/python3.7/dist-packages (from google-auth<3,>=1.6.3->tensorboard~=2.4->tensorflow==2.4.1) (4.9)\n",
            "Requirement already satisfied: requests-oauthlib>=0.7.0 in /usr/local/lib/python3.7/dist-packages (from google-auth-oauthlib<0.5,>=0.4.1->tensorboard~=2.4->tensorflow==2.4.1) (1.3.1)\n",
            "Requirement already satisfied: importlib-metadata>=4.4 in /usr/local/lib/python3.7/dist-packages (from markdown>=2.6.8->tensorboard~=2.4->tensorflow==2.4.1) (4.12.0)\n",
            "Requirement already satisfied: zipp>=0.5 in /usr/local/lib/python3.7/dist-packages (from importlib-metadata>=4.4->markdown>=2.6.8->tensorboard~=2.4->tensorflow==2.4.1) (3.8.1)\n",
            "Requirement already satisfied: pyasn1<0.5.0,>=0.4.6 in /usr/local/lib/python3.7/dist-packages (from pyasn1-modules>=0.2.1->google-auth<3,>=1.6.3->tensorboard~=2.4->tensorflow==2.4.1) (0.4.8)\n",
            "Requirement already satisfied: certifi>=2017.4.17 in /usr/local/lib/python3.7/dist-packages (from requests<3,>=2.21.0->tensorboard~=2.4->tensorflow==2.4.1) (2022.6.15)\n",
            "Requirement already satisfied: chardet<4,>=3.0.2 in /usr/local/lib/python3.7/dist-packages (from requests<3,>=2.21.0->tensorboard~=2.4->tensorflow==2.4.1) (3.0.4)\n",
            "Requirement already satisfied: idna<3,>=2.5 in /usr/local/lib/python3.7/dist-packages (from requests<3,>=2.21.0->tensorboard~=2.4->tensorflow==2.4.1) (2.10)\n",
            "Requirement already satisfied: urllib3!=1.25.0,!=1.25.1,<1.26,>=1.21.1 in /usr/local/lib/python3.7/dist-packages (from requests<3,>=2.21.0->tensorboard~=2.4->tensorflow==2.4.1) (1.24.3)\n",
            "Requirement already satisfied: oauthlib>=3.0.0 in /usr/local/lib/python3.7/dist-packages (from requests-oauthlib>=0.7.0->google-auth-oauthlib<0.5,>=0.4.1->tensorboard~=2.4->tensorflow==2.4.1) (3.2.0)\n",
            "Requirement already satisfied: cycler>=0.10 in /usr/local/lib/python3.7/dist-packages (from matplotlib) (0.11.0)\n",
            "Requirement already satisfied: kiwisolver>=1.0.1 in /usr/local/lib/python3.7/dist-packages (from matplotlib) (1.4.4)\n",
            "Requirement already satisfied: pyparsing!=2.0.4,!=2.1.2,!=2.1.6,>=2.0.1 in /usr/local/lib/python3.7/dist-packages (from matplotlib) (3.0.9)\n",
            "Requirement already satisfied: python-dateutil>=2.1 in /usr/local/lib/python3.7/dist-packages (from matplotlib) (2.8.2)\n",
            "Building wheels for collected packages: wrapt\n",
            "  Building wheel for wrapt (setup.py) ... \u001b[?25l\u001b[?25hdone\n",
            "  Created wheel for wrapt: filename=wrapt-1.12.1-cp37-cp37m-linux_x86_64.whl size=68721 sha256=916702ffdbc9a03fddd79d2ad448592382fc1d8bf85d5b576cd6ac7e7a99706c\n",
            "  Stored in directory: /root/.cache/pip/wheels/62/76/4c/aa25851149f3f6d9785f6c869387ad82b3fd37582fa8147ac6\n",
            "Successfully built wrapt\n",
            "Installing collected packages: typing-extensions, numpy, grpcio, absl-py, wrapt, tensorflow-estimator, h5py, gast, flatbuffers, tensorflow-gpu, tensorflow\n",
            "  Attempting uninstall: typing-extensions\n",
            "    Found existing installation: typing-extensions 4.1.1\n",
            "    Uninstalling typing-extensions-4.1.1:\n",
            "      Successfully uninstalled typing-extensions-4.1.1\n",
            "  Attempting uninstall: numpy\n",
            "    Found existing installation: numpy 1.21.6\n",
            "    Uninstalling numpy-1.21.6:\n",
            "      Successfully uninstalled numpy-1.21.6\n",
            "  Attempting uninstall: grpcio\n",
            "    Found existing installation: grpcio 1.48.1\n",
            "    Uninstalling grpcio-1.48.1:\n",
            "      Successfully uninstalled grpcio-1.48.1\n",
            "  Attempting uninstall: absl-py\n",
            "    Found existing installation: absl-py 1.2.0\n",
            "    Uninstalling absl-py-1.2.0:\n",
            "      Successfully uninstalled absl-py-1.2.0\n",
            "  Attempting uninstall: wrapt\n",
            "    Found existing installation: wrapt 1.14.1\n",
            "    Uninstalling wrapt-1.14.1:\n",
            "      Successfully uninstalled wrapt-1.14.1\n",
            "  Attempting uninstall: tensorflow-estimator\n",
            "    Found existing installation: tensorflow-estimator 2.8.0\n",
            "    Uninstalling tensorflow-estimator-2.8.0:\n",
            "      Successfully uninstalled tensorflow-estimator-2.8.0\n",
            "  Attempting uninstall: h5py\n",
            "    Found existing installation: h5py 3.1.0\n",
            "    Uninstalling h5py-3.1.0:\n",
            "      Successfully uninstalled h5py-3.1.0\n",
            "  Attempting uninstall: gast\n",
            "    Found existing installation: gast 0.5.3\n",
            "    Uninstalling gast-0.5.3:\n",
            "      Successfully uninstalled gast-0.5.3\n",
            "  Attempting uninstall: flatbuffers\n",
            "    Found existing installation: flatbuffers 2.0.7\n",
            "    Uninstalling flatbuffers-2.0.7:\n",
            "      Successfully uninstalled flatbuffers-2.0.7\n",
            "  Attempting uninstall: tensorflow\n",
            "    Found existing installation: tensorflow 2.8.2+zzzcolab20220719082949\n",
            "    Uninstalling tensorflow-2.8.2+zzzcolab20220719082949:\n",
            "      Successfully uninstalled tensorflow-2.8.2+zzzcolab20220719082949\n",
            "\u001b[31mERROR: pip's dependency resolver does not currently take into account all the packages that are installed. This behaviour is the source of the following dependency conflicts.\n",
            "xarray-einstats 0.2.2 requires numpy>=1.21, but you have numpy 1.19.5 which is incompatible.\n",
            "jax 0.3.17 requires numpy>=1.20, but you have numpy 1.19.5 which is incompatible.\n",
            "cmdstanpy 1.0.7 requires numpy>=1.21, but you have numpy 1.19.5 which is incompatible.\u001b[0m\n",
            "Successfully installed absl-py-0.15.0 flatbuffers-1.12 gast-0.3.3 grpcio-1.32.0 h5py-2.10.0 numpy-1.19.5 tensorflow-2.4.1 tensorflow-estimator-2.4.0 tensorflow-gpu-2.4.1 typing-extensions-3.7.4.3 wrapt-1.12.1\n"
          ]
        },
        {
          "output_type": "display_data",
          "data": {
            "application/vnd.colab-display-data+json": {
              "pip_warning": {
                "packages": [
                  "numpy",
                  "typing_extensions"
                ]
              }
            }
          },
          "metadata": {}
        }
      ],
      "source": [
        "!pip install tensorflow==2.4.1 tensorflow-gpu==2.4.1 opencv-python matplotlib"
      ]
    },
    {
      "cell_type": "code",
      "execution_count": null,
      "metadata": {
        "id": "OZ2dwOjy5HqQ"
      },
      "outputs": [],
      "source": []
    },
    {
      "cell_type": "markdown",
      "metadata": {
        "id": "vxrIrC42zCrw"
      },
      "source": [
        "## 1.2 Import Dependencies"
      ]
    },
    {
      "cell_type": "code",
      "execution_count": null,
      "metadata": {
        "id": "Hl1y6ImrzCrw"
      },
      "outputs": [],
      "source": [
        "# Import standard dependencies\n",
        "import cv2\n",
        "import os\n",
        "import random\n",
        "import numpy as np\n",
        "from matplotlib import pyplot as plt\n",
        "from IPython.display import display, Javascript\n",
        "from google.colab.output import eval_js\n",
        "from base64 import b64decode\n",
        "import shutil\n",
        "from IPython.display import Image\n",
        "import uuid\n",
        "import posix\n",
        "import glob"
      ]
    },
    {
      "cell_type": "code",
      "execution_count": null,
      "metadata": {
        "id": "3CgPAK7qzCrx"
      },
      "outputs": [],
      "source": [
        "# Import tensorflow dependencies - Functional API\n",
        "from tensorflow.keras.models import Model\n",
        "from tensorflow.keras.layers import Layer, Conv2D, Dense, MaxPooling2D, Input, Flatten\n",
        "import tensorflow as tf"
      ]
    },
    {
      "cell_type": "markdown",
      "metadata": {
        "id": "UsSzTLbmYfhk"
      },
      "source": [
        "# Connect G.Drive"
      ]
    },
    {
      "cell_type": "code",
      "execution_count": null,
      "metadata": {
        "id": "4zBYGGXmYr2a",
        "colab": {
          "base_uri": "https://localhost:8080/"
        },
        "outputId": "a120490a-c331-4156-d46a-b4213cf00d28"
      },
      "outputs": [
        {
          "output_type": "stream",
          "name": "stdout",
          "text": [
            "Mounted at /content/drive\n"
          ]
        }
      ],
      "source": [
        "from google.colab import drive \n",
        "drive.mount('/content/drive')"
      ]
    },
    {
      "cell_type": "markdown",
      "metadata": {
        "id": "RUNjomW-zCrx"
      },
      "source": [
        "## 1.3 Set GPU Growth"
      ]
    },
    {
      "cell_type": "code",
      "execution_count": null,
      "metadata": {
        "id": "2P8e6HTazCry"
      },
      "outputs": [],
      "source": [
        "# Avoid OOM errors by setting GPU Memory Consumption Growth\n",
        "gpus = tf.config.experimental.list_physical_devices('GPU')\n",
        "for gpu in gpus: \n",
        "    tf.config.experimental.set_memory_growth(gpu, True)"
      ]
    },
    {
      "cell_type": "markdown",
      "metadata": {
        "id": "JIs_sMR7zCry"
      },
      "source": [
        "## 1.4 Create Folder Structures"
      ]
    },
    {
      "cell_type": "code",
      "execution_count": null,
      "metadata": {
        "id": "E5gXrnfjzCrz"
      },
      "outputs": [],
      "source": [
        "# Setup paths\n",
        "POS_PATH = os.path.join('data', 'positive')\n",
        "NEG_PATH = os.path.join('data', 'negative')\n",
        "ANC_PATH = os.path.join('data', 'anchor')"
      ]
    },
    {
      "cell_type": "code",
      "execution_count": null,
      "metadata": {
        "id": "JwKvxSULzCr0"
      },
      "outputs": [],
      "source": [
        "# Make the directories\n",
        "os.makedirs(POS_PATH)\n",
        "os.makedirs(NEG_PATH)\n",
        "os.makedirs(ANC_PATH)"
      ]
    },
    {
      "cell_type": "code",
      "execution_count": null,
      "metadata": {
        "id": "xPiFaPPa1vh1",
        "colab": {
          "base_uri": "https://localhost:8080/"
        },
        "outputId": "f4713e5c-041f-49ef-b0e3-618487c92500"
      },
      "outputs": [
        {
          "output_type": "stream",
          "name": "stdout",
          "text": [
            "data/positive\n"
          ]
        }
      ],
      "source": [
        "print(POS_PATH)"
      ]
    },
    {
      "cell_type": "code",
      "execution_count": null,
      "metadata": {
        "id": "qM_JdN3BmWwO",
        "colab": {
          "base_uri": "https://localhost:8080/"
        },
        "outputId": "3d172260-c68c-4c5f-d03e-088eab321129"
      },
      "outputs": [
        {
          "output_type": "stream",
          "name": "stdout",
          "text": [
            "['/content/sample_data/mnist_test.csv', '/content/sample_data/california_housing_train.csv', '/content/sample_data/mnist_train_small.csv', '/content/sample_data/california_housing_test.csv']\n"
          ]
        }
      ],
      "source": [
        "import glob\n",
        "print(glob.glob(os.path.join('/content/sample_data','*.csv')))\n"
      ]
    },
    {
      "cell_type": "markdown",
      "metadata": {
        "id": "1rNt9WFQzCr0"
      },
      "source": [
        "# 2. Collect Positives and Anchors"
      ]
    },
    {
      "cell_type": "markdown",
      "metadata": {
        "id": "0niw-dDuzCr1"
      },
      "source": [
        "## 2.1 Collect Negative Images "
      ]
    },
    {
      "cell_type": "code",
      "execution_count": null,
      "metadata": {
        "id": "BBp6VyanYRa1",
        "colab": {
          "base_uri": "https://localhost:8080/"
        },
        "outputId": "b4e911ed-d2a1-4c50-f325-798f3b40d0ae"
      },
      "outputs": [
        {
          "output_type": "stream",
          "name": "stdout",
          "text": [
            "1 image copied\n",
            "2 image copied\n",
            "3 image copied\n",
            "4 image copied\n",
            "5 image copied\n",
            "6 image copied\n",
            "7 image copied\n",
            "8 image copied\n",
            "9 image copied\n",
            "10 image copied\n",
            "11 image copied\n",
            "12 image copied\n",
            "13 image copied\n",
            "14 image copied\n",
            "15 image copied\n",
            "16 image copied\n",
            "17 image copied\n",
            "18 image copied\n",
            "19 image copied\n",
            "20 image copied\n",
            "21 image copied\n",
            "22 image copied\n",
            "23 image copied\n",
            "24 image copied\n",
            "25 image copied\n",
            "26 image copied\n",
            "27 image copied\n",
            "28 image copied\n",
            "29 image copied\n",
            "30 image copied\n",
            "31 image copied\n",
            "32 image copied\n",
            "33 image copied\n",
            "34 image copied\n",
            "35 image copied\n",
            "36 image copied\n",
            "37 image copied\n",
            "38 image copied\n",
            "39 image copied\n",
            "40 image copied\n",
            "41 image copied\n",
            "42 image copied\n",
            "43 image copied\n",
            "44 image copied\n",
            "45 image copied\n",
            "46 image copied\n",
            "47 image copied\n",
            "48 image copied\n",
            "49 image copied\n",
            "50 image copied\n",
            "51 image copied\n",
            "52 image copied\n",
            "53 image copied\n",
            "54 image copied\n",
            "55 image copied\n",
            "56 image copied\n",
            "57 image copied\n",
            "58 image copied\n",
            "59 image copied\n",
            "60 image copied\n",
            "61 image copied\n",
            "62 image copied\n",
            "63 image copied\n",
            "64 image copied\n",
            "65 image copied\n",
            "66 image copied\n",
            "67 image copied\n",
            "68 image copied\n",
            "69 image copied\n",
            "70 image copied\n",
            "71 image copied\n",
            "72 image copied\n",
            "73 image copied\n",
            "74 image copied\n",
            "75 image copied\n",
            "76 image copied\n",
            "77 image copied\n",
            "78 image copied\n",
            "79 image copied\n",
            "80 image copied\n",
            "81 image copied\n",
            "82 image copied\n",
            "83 image copied\n",
            "84 image copied\n",
            "85 image copied\n",
            "86 image copied\n",
            "87 image copied\n",
            "88 image copied\n",
            "89 image copied\n",
            "90 image copied\n",
            "91 image copied\n",
            "92 image copied\n",
            "93 image copied\n",
            "94 image copied\n",
            "95 image copied\n",
            "96 image copied\n",
            "97 image copied\n",
            "98 image copied\n",
            "99 image copied\n",
            "100 image copied\n",
            "101 image copied\n",
            "102 image copied\n",
            "103 image copied\n",
            "104 image copied\n",
            "105 image copied\n",
            "106 image copied\n",
            "107 image copied\n",
            "108 image copied\n",
            "109 image copied\n",
            "110 image copied\n",
            "111 image copied\n",
            "112 image copied\n",
            "113 image copied\n",
            "114 image copied\n",
            "115 image copied\n",
            "116 image copied\n",
            "117 image copied\n",
            "118 image copied\n",
            "119 image copied\n",
            "120 image copied\n",
            "121 image copied\n",
            "122 image copied\n",
            "123 image copied\n",
            "124 image copied\n",
            "125 image copied\n",
            "126 image copied\n",
            "127 image copied\n",
            "128 image copied\n",
            "129 image copied\n",
            "130 image copied\n",
            "131 image copied\n",
            "132 image copied\n",
            "133 image copied\n",
            "134 image copied\n",
            "135 image copied\n",
            "136 image copied\n",
            "137 image copied\n",
            "138 image copied\n",
            "139 image copied\n",
            "140 image copied\n",
            "141 image copied\n",
            "142 image copied\n",
            "143 image copied\n",
            "144 image copied\n",
            "145 image copied\n",
            "146 image copied\n",
            "147 image copied\n",
            "148 image copied\n",
            "149 image copied\n",
            "150 image copied\n",
            "151 image copied\n",
            "152 image copied\n",
            "153 image copied\n",
            "154 image copied\n",
            "155 image copied\n",
            "156 image copied\n",
            "157 image copied\n",
            "158 image copied\n",
            "159 image copied\n",
            "160 image copied\n",
            "161 image copied\n",
            "162 image copied\n",
            "163 image copied\n",
            "164 image copied\n",
            "165 image copied\n",
            "166 image copied\n",
            "167 image copied\n",
            "168 image copied\n",
            "169 image copied\n",
            "170 image copied\n",
            "171 image copied\n",
            "172 image copied\n",
            "173 image copied\n",
            "174 image copied\n",
            "175 image copied\n",
            "176 image copied\n",
            "177 image copied\n",
            "178 image copied\n",
            "179 image copied\n",
            "180 image copied\n",
            "181 image copied\n",
            "182 image copied\n",
            "183 image copied\n",
            "184 image copied\n",
            "185 image copied\n",
            "186 image copied\n",
            "187 image copied\n",
            "188 image copied\n",
            "189 image copied\n",
            "190 image copied\n",
            "191 image copied\n",
            "192 image copied\n",
            "193 image copied\n",
            "194 image copied\n",
            "195 image copied\n",
            "196 image copied\n",
            "197 image copied\n",
            "198 image copied\n",
            "199 image copied\n",
            "200 image copied\n",
            "201 image copied\n",
            "202 image copied\n",
            "203 image copied\n",
            "204 image copied\n",
            "205 image copied\n",
            "206 image copied\n",
            "207 image copied\n",
            "208 image copied\n",
            "209 image copied\n",
            "210 image copied\n",
            "211 image copied\n",
            "212 image copied\n",
            "213 image copied\n",
            "214 image copied\n",
            "215 image copied\n",
            "216 image copied\n",
            "217 image copied\n",
            "218 image copied\n",
            "219 image copied\n",
            "220 image copied\n",
            "221 image copied\n",
            "222 image copied\n",
            "223 image copied\n",
            "224 image copied\n",
            "225 image copied\n",
            "226 image copied\n",
            "227 image copied\n",
            "228 image copied\n",
            "229 image copied\n",
            "230 image copied\n",
            "231 image copied\n",
            "232 image copied\n",
            "233 image copied\n",
            "234 image copied\n",
            "235 image copied\n",
            "236 image copied\n",
            "237 image copied\n",
            "238 image copied\n",
            "239 image copied\n",
            "240 image copied\n",
            "241 image copied\n",
            "242 image copied\n",
            "243 image copied\n",
            "244 image copied\n",
            "245 image copied\n",
            "246 image copied\n",
            "247 image copied\n",
            "248 image copied\n",
            "249 image copied\n",
            "250 image copied\n",
            "251 image copied\n",
            "252 image copied\n",
            "no\n"
          ]
        }
      ],
      "source": [
        "\n",
        "count=0\n",
        "dir_path=r'/content/drive/MyDrive/Colab Notebooks/lfw_home/lfw_funneled'\n",
        "for directory in os.listdir(dir_path):\n",
        "  #print(directory)\n",
        "  imgpath=os.path.join(dir_path,directory)\n",
        "  #print(imgpath)\n",
        "  \n",
        "  for file in glob.iglob(os.path.join(imgpath,\"*jpg\")):\n",
        "    shutil.copy(file,NEG_PATH)\n",
        "    count=count+1\n",
        "      \n",
        "    print(f\"{count} image copied\")\n",
        "     \n",
        "  if count>=250:\n",
        "    print('no')\n",
        "    break; \n",
        "    \n",
        "    \n",
        "   "
      ]
    },
    {
      "cell_type": "markdown",
      "metadata": {
        "id": "Cf6IN0_4zCr1"
      },
      "source": [
        "## 2.2 Collect Positive and Anchor Classes"
      ]
    },
    {
      "cell_type": "markdown",
      "metadata": {
        "id": "pZ937jjlW_-D"
      },
      "source": [
        "### Web Cam import"
      ]
    },
    {
      "cell_type": "code",
      "execution_count": null,
      "metadata": {
        "id": "dZBUoyXaXPW7"
      },
      "outputs": [],
      "source": [
        "#@ js_to_data function\n",
        "\n",
        "# function to convert the JavaScript object into an OpenCV image\n",
        "def js_to_image(js_reply):\n",
        "  \"\"\"\n",
        "  Params:\n",
        "          js_reply: JavaScript object containing image from webcam\n",
        "  Returns:\n",
        "          img: OpenCV BGR image\n",
        "  \"\"\"\n",
        "  \n",
        "  # decode base64 image\n",
        "  image_bytes = b64decode(js_reply.split(',')[1])\n",
        "  # convert bytes to numpy array\n",
        "  jpg_as_np = np.frombuffer(image_bytes, dtype=np.uint8)\n",
        "  #Resize image\n",
        "\n",
        "   # decode numpy array into OpenCV BGR image\n",
        "  img = cv2.imdecode(jpg_as_np, 1)\n",
        "\n",
        "\n",
        "\n",
        "  return img\n",
        "\n",
        "# function to convert OpenCV Rectangle bounding box image into base64 byte string to be overlayed on video stream\n",
        "def bbox_to_bytes(bbox_array):\n",
        "  \"\"\"\n",
        "  Params:\n",
        "          bbox_array: Numpy array (pixels) containing rectangle to overlay on video stream.\n",
        "  Returns:\n",
        "        bytes: Base64 image byte string\n",
        "  \"\"\"\n",
        "  # convert array into PIL image\n",
        "  bbox_PIL = PIL.Image.fromarray(bbox_array, 'RGBA')\n",
        "  iobuf = io.BytesIO()\n",
        "  # format bbox into png for return\n",
        "  bbox_PIL.save(iobuf, format='png')\n",
        "  # format return string\n",
        "  bbox_bytes = 'data:image/png;base64,{}'.format((str(b64encode(iobuf.getvalue()), 'utf-8')))\n",
        "\n",
        "  return bbox_bytes\n"
      ]
    },
    {
      "cell_type": "code",
      "execution_count": null,
      "metadata": {
        "id": "nxRXOyC2XQW0"
      },
      "outputs": [],
      "source": [
        "\n",
        "def take_photo(filename= '{}.jpg'.format(uuid.uuid1()), quality=0.8):\n",
        "  js = Javascript('''\n",
        "    async function takePhoto(quality) {\n",
        "      const div = document.createElement('div');\n",
        "      const capture = document.createElement('button');\n",
        "      capture.textContent = 'Capture';\n",
        "      div.appendChild(capture);\n",
        "\n",
        "      const video = document.createElement('video');\n",
        "      video.style.display = 'block';\n",
        "      const stream = await navigator.mediaDevices.getUserMedia({video: true});\n",
        "\n",
        "      document.body.appendChild(div);\n",
        "      div.appendChild(video);\n",
        "      video.srcObject = stream;\n",
        "      await video.play();\n",
        "\n",
        "      // Resize the output to fit the video element.\n",
        "      google.colab.output.setIframeHeight(document.documentElement.scrollHeight, true);\n",
        "\n",
        "      // Wait for Capture to be clicked.\n",
        "      await new Promise((resolve) => capture.onclick = resolve);\n",
        "\n",
        "      const canvas = document.createElement('canvas');\n",
        "      canvas.width = video.videoWidth;\n",
        "      canvas.height = video.videoHeight;\n",
        "      canvas.getContext('2d').drawImage(video, 0, 0);\n",
        "      stream.getVideoTracks()[0].stop();\n",
        "      div.remove();\n",
        "      return canvas.toDataURL('image/jpeg', quality);\n",
        "    }\n",
        "    ''')\n",
        "  display(js)\n",
        " \n",
        "\n",
        " # get photo data\n",
        "  data = eval_js('takePhoto({})'.format(quality))\n",
        "  # get OpenCV format image and resize it to (250,250)\n",
        "  img = cv2.resize((js_to_image(data)),(250,250))\n",
        "  # grayscale img\n",
        "  gray = cv2.cvtColor(img, cv2.COLOR_RGB2GRAY)\n",
        "\n",
        "  # get face bounding box coordinates using Haar Cascade\n",
        "  faces = face_cascade.detectMultiScale(gray)\n",
        "  # draw face bounding box on image\n",
        "  for (x,y,w,h) in faces:\n",
        "      img = cv2.rectangle(img,(x,y),(x+w,y+h),(255,0,0),2)\n",
        "\n",
        "  # save image as anchor\n",
        "  user_input = input(\"To save as anchor press a or press p to save as positive\\n\")\n",
        "  print('Pressed key:',user_input)\n",
        "  if user_input== 'a':\n",
        "    img_path=os.path.join(ANC_PATH,filename)\n",
        "    cv2.imwrite(img_path, img)\n",
        "  else:\n",
        "    img_path=os.path.join(POS_PATH,filename)\n",
        "    cv2.imwrite(img_path, img)\n",
        "\n",
        "  return filename"
      ]
    },
    {
      "cell_type": "code",
      "execution_count": null,
      "metadata": {
        "id": "dZE9mjVRZcOx"
      },
      "outputs": [],
      "source": [
        "# initialize the Haar Cascade face detection model\n",
        "face_cascade = cv2.CascadeClassifier(cv2.samples.findFile(cv2.data.haarcascades + 'haarcascade_frontalface_default.xml'))"
      ]
    },
    {
      "cell_type": "code",
      "execution_count": null,
      "metadata": {
        "id": "69LOPIR6XQW0",
        "colab": {
          "resources": {
            "http://localhost:8080/d589ab92-415f-11ed-8b8f-0242ac1c0002.jpg": {
              "data": "CjwhRE9DVFlQRSBodG1sPgo8aHRtbCBsYW5nPWVuPgogIDxtZXRhIGNoYXJzZXQ9dXRmLTg+CiAgPG1ldGEgbmFtZT12aWV3cG9ydCBjb250ZW50PSJpbml0aWFsLXNjYWxlPTEsIG1pbmltdW0tc2NhbGU9MSwgd2lkdGg9ZGV2aWNlLXdpZHRoIj4KICA8dGl0bGU+RXJyb3IgNDA0IChOb3QgRm91bmQpISExPC90aXRsZT4KICA8c3R5bGU+CiAgICAqe21hcmdpbjowO3BhZGRpbmc6MH1odG1sLGNvZGV7Zm9udDoxNXB4LzIycHggYXJpYWwsc2Fucy1zZXJpZn1odG1se2JhY2tncm91bmQ6I2ZmZjtjb2xvcjojMjIyO3BhZGRpbmc6MTVweH1ib2R5e21hcmdpbjo3JSBhdXRvIDA7bWF4LXdpZHRoOjM5MHB4O21pbi1oZWlnaHQ6MTgwcHg7cGFkZGluZzozMHB4IDAgMTVweH0qID4gYm9keXtiYWNrZ3JvdW5kOnVybCgvL3d3dy5nb29nbGUuY29tL2ltYWdlcy9lcnJvcnMvcm9ib3QucG5nKSAxMDAlIDVweCBuby1yZXBlYXQ7cGFkZGluZy1yaWdodDoyMDVweH1we21hcmdpbjoxMXB4IDAgMjJweDtvdmVyZmxvdzpoaWRkZW59aW5ze2NvbG9yOiM3Nzc7dGV4dC1kZWNvcmF0aW9uOm5vbmV9YSBpbWd7Ym9yZGVyOjB9QG1lZGlhIHNjcmVlbiBhbmQgKG1heC13aWR0aDo3NzJweCl7Ym9keXtiYWNrZ3JvdW5kOm5vbmU7bWFyZ2luLXRvcDowO21heC13aWR0aDpub25lO3BhZGRpbmctcmlnaHQ6MH19I2xvZ297YmFja2dyb3VuZDp1cmwoLy93d3cuZ29vZ2xlLmNvbS9pbWFnZXMvbG9nb3MvZXJyb3JwYWdlL2Vycm9yX2xvZ28tMTUweDU0LnBuZykgbm8tcmVwZWF0O21hcmdpbi1sZWZ0Oi01cHh9QG1lZGlhIG9ubHkgc2NyZWVuIGFuZCAobWluLXJlc29sdXRpb246MTkyZHBpKXsjbG9nb3tiYWNrZ3JvdW5kOnVybCgvL3d3dy5nb29nbGUuY29tL2ltYWdlcy9sb2dvcy9lcnJvcnBhZ2UvZXJyb3JfbG9nby0xNTB4NTQtMngucG5nKSBuby1yZXBlYXQgMCUgMCUvMTAwJSAxMDAlOy1tb3otYm9yZGVyLWltYWdlOnVybCgvL3d3dy5nb29nbGUuY29tL2ltYWdlcy9sb2dvcy9lcnJvcnBhZ2UvZXJyb3JfbG9nby0xNTB4NTQtMngucG5nKSAwfX1AbWVkaWEgb25seSBzY3JlZW4gYW5kICgtd2Via2l0LW1pbi1kZXZpY2UtcGl4ZWwtcmF0aW86Mil7I2xvZ297YmFja2dyb3VuZDp1cmwoLy93d3cuZ29vZ2xlLmNvbS9pbWFnZXMvbG9nb3MvZXJyb3JwYWdlL2Vycm9yX2xvZ28tMTUweDU0LTJ4LnBuZykgbm8tcmVwZWF0Oy13ZWJraXQtYmFja2dyb3VuZC1zaXplOjEwMCUgMTAwJX19I2xvZ297ZGlzcGxheTppbmxpbmUtYmxvY2s7aGVpZ2h0OjU0cHg7d2lkdGg6MTUwcHh9CiAgPC9zdHlsZT4KICA8YSBocmVmPS8vd3d3Lmdvb2dsZS5jb20vPjxzcGFuIGlkPWxvZ28gYXJpYS1sYWJlbD1Hb29nbGU+PC9zcGFuPjwvYT4KICA8cD48Yj40MDQuPC9iPiA8aW5zPlRoYXTigJlzIGFuIGVycm9yLjwvaW5zPgogIDxwPiAgPGlucz5UaGF04oCZcyBhbGwgd2Uga25vdy48L2lucz4K",
              "ok": false,
              "headers": [
                [
                  "content-length",
                  "1449"
                ],
                [
                  "content-type",
                  "text/html; charset=utf-8"
                ]
              ],
              "status": 404,
              "status_text": ""
            }
          },
          "base_uri": "https://localhost:8080/",
          "height": 107
        },
        "outputId": "842cbfbe-f0dc-47c8-d205-3163de3e9a33"
      },
      "outputs": [
        {
          "output_type": "display_data",
          "data": {
            "text/plain": [
              "<IPython.core.display.Javascript object>"
            ],
            "application/javascript": [
              "\n",
              "    async function takePhoto(quality) {\n",
              "      const div = document.createElement('div');\n",
              "      const capture = document.createElement('button');\n",
              "      capture.textContent = 'Capture';\n",
              "      div.appendChild(capture);\n",
              "\n",
              "      const video = document.createElement('video');\n",
              "      video.style.display = 'block';\n",
              "      const stream = await navigator.mediaDevices.getUserMedia({video: true});\n",
              "\n",
              "      document.body.appendChild(div);\n",
              "      div.appendChild(video);\n",
              "      video.srcObject = stream;\n",
              "      await video.play();\n",
              "\n",
              "      // Resize the output to fit the video element.\n",
              "      google.colab.output.setIframeHeight(document.documentElement.scrollHeight, true);\n",
              "\n",
              "      // Wait for Capture to be clicked.\n",
              "      await new Promise((resolve) => capture.onclick = resolve);\n",
              "\n",
              "      const canvas = document.createElement('canvas');\n",
              "      canvas.width = video.videoWidth;\n",
              "      canvas.height = video.videoHeight;\n",
              "      canvas.getContext('2d').drawImage(video, 0, 0);\n",
              "      stream.getVideoTracks()[0].stop();\n",
              "      div.remove();\n",
              "      return canvas.toDataURL('image/jpeg', quality);\n",
              "    }\n",
              "    "
            ]
          },
          "metadata": {}
        },
        {
          "output_type": "stream",
          "name": "stdout",
          "text": [
            "To save as anchor press a or press p to save as positive\n",
            "p\n",
            "Pressed key: p\n",
            "Saved to d589ab92-415f-11ed-8b8f-0242ac1c0002.jpg\n"
          ]
        },
        {
          "output_type": "display_data",
          "data": {
            "text/html": [
              "<img src=\"d589ab92-415f-11ed-8b8f-0242ac1c0002.jpg\"/>"
            ],
            "text/plain": [
              "<IPython.core.display.Image object>"
            ]
          },
          "metadata": {}
        }
      ],
      "source": [
        "from traitlets.traitlets import TraitType\n",
        "from numpy.lib import type_check\n",
        "\n",
        "try:\n",
        "  filename = take_photo()\n",
        "  print('Saved to {}'.format(filename))\n",
        "  \n",
        "  # Show the image which was just taken.\n",
        "  display(Image(str,filename))\n",
        "except Exception as err:\n",
        "  # Errors will be thrown if the user does not have a webcam or if they do not\n",
        "  # grant the page permission to access it.\n",
        "  print(str(err))"
      ]
    },
    {
      "cell_type": "code",
      "execution_count": null,
      "metadata": {
        "id": "VC_kzuAoxnml"
      },
      "outputs": [],
      "source": [
        "#Eslablish connection to the webcam\n",
        "cap=cv2.VideoCapture(3)\n",
        "while cap.isOpened():\n",
        "  ret, frame=cap.read()\n",
        "  #Show Image\n",
        "\n",
        "  cv2.imshow('Image collection', frame)\n",
        "\n",
        "  #Breaking gracefully\n",
        "  if cv2.wait(1) & 0XFF == ord('q'):\n",
        "    break\n",
        "#release the webcam\n",
        "cap.release()\n",
        "cv2.destroyAllWindows()"
      ]
    },
    {
      "cell_type": "code",
      "execution_count": null,
      "metadata": {
        "id": "miLVWkKjwhHq",
        "colab": {
          "base_uri": "https://localhost:8080/"
        },
        "outputId": "bc09a046-7272-4c96-b078-4c2551150e53"
      },
      "outputs": [
        {
          "output_type": "stream",
          "name": "stdout",
          "text": [
            "1 images copied\n",
            "2 images copied\n",
            "3 images copied\n",
            "4 images copied\n",
            "5 images copied\n",
            "6 images copied\n",
            "7 images copied\n",
            "8 images copied\n",
            "9 images copied\n",
            "10 images copied\n",
            "11 images copied\n",
            "12 images copied\n",
            "13 images copied\n",
            "14 images copied\n",
            "15 images copied\n",
            "16 images copied\n",
            "17 images copied\n",
            "18 images copied\n",
            "19 images copied\n",
            "20 images copied\n",
            "21 images copied\n",
            "22 images copied\n",
            "23 images copied\n",
            "24 images copied\n",
            "25 images copied\n",
            "26 images copied\n",
            "27 images copied\n",
            "28 images copied\n",
            "29 images copied\n",
            "30 images copied\n",
            "31 images copied\n",
            "32 images copied\n",
            "33 images copied\n",
            "34 images copied\n",
            "35 images copied\n",
            "36 images copied\n",
            "37 images copied\n",
            "38 images copied\n",
            "39 images copied\n",
            "40 images copied\n",
            "41 images copied\n",
            "42 images copied\n",
            "43 images copied\n",
            "44 images copied\n",
            "45 images copied\n",
            "46 images copied\n",
            "47 images copied\n",
            "48 images copied\n",
            "49 images copied\n",
            "50 images copied\n",
            "51 images copied\n",
            "52 images copied\n",
            "53 images copied\n",
            "54 images copied\n",
            "55 images copied\n",
            "56 images copied\n",
            "57 images copied\n",
            "58 images copied\n",
            "59 images copied\n",
            "60 images copied\n",
            "61 images copied\n",
            "62 images copied\n",
            "63 images copied\n",
            "64 images copied\n",
            "65 images copied\n",
            "66 images copied\n",
            "67 images copied\n",
            "68 images copied\n",
            "69 images copied\n",
            "70 images copied\n",
            "71 images copied\n",
            "72 images copied\n",
            "73 images copied\n",
            "74 images copied\n",
            "75 images copied\n",
            "76 images copied\n",
            "77 images copied\n",
            "78 images copied\n",
            "79 images copied\n",
            "80 images copied\n",
            "81 images copied\n",
            "82 images copied\n",
            "83 images copied\n",
            "84 images copied\n",
            "85 images copied\n",
            "86 images copied\n",
            "87 images copied\n",
            "88 images copied\n",
            "89 images copied\n",
            "90 images copied\n",
            "91 images copied\n",
            "92 images copied\n",
            "93 images copied\n",
            "94 images copied\n",
            "95 images copied\n",
            "96 images copied\n",
            "97 images copied\n",
            "98 images copied\n",
            "99 images copied\n",
            "100 images copied\n",
            "101 images copied\n",
            "102 images copied\n",
            "103 images copied\n",
            "104 images copied\n",
            "105 images copied\n",
            "106 images copied\n",
            "107 images copied\n",
            "108 images copied\n",
            "109 images copied\n",
            "110 images copied\n",
            "111 images copied\n",
            "112 images copied\n",
            "113 images copied\n",
            "114 images copied\n",
            "115 images copied\n",
            "116 images copied\n",
            "117 images copied\n",
            "118 images copied\n",
            "119 images copied\n",
            "120 images copied\n",
            "121 images copied\n",
            "122 images copied\n",
            "123 images copied\n",
            "124 images copied\n",
            "125 images copied\n",
            "126 images copied\n",
            "127 images copied\n",
            "128 images copied\n",
            "129 images copied\n",
            "130 images copied\n",
            "131 images copied\n",
            "132 images copied\n",
            "133 images copied\n",
            "134 images copied\n",
            "135 images copied\n",
            "136 images copied\n",
            "137 images copied\n",
            "138 images copied\n",
            "139 images copied\n",
            "140 images copied\n",
            "141 images copied\n",
            "142 images copied\n",
            "143 images copied\n",
            "144 images copied\n",
            "145 images copied\n",
            "146 images copied\n",
            "147 images copied\n",
            "148 images copied\n",
            "149 images copied\n",
            "150 images copied\n",
            "151 images copied\n",
            "152 images copied\n",
            "153 images copied\n",
            "154 images copied\n",
            "155 images copied\n",
            "156 images copied\n",
            "157 images copied\n",
            "158 images copied\n",
            "159 images copied\n",
            "160 images copied\n",
            "161 images copied\n",
            "162 images copied\n",
            "163 images copied\n",
            "164 images copied\n",
            "165 images copied\n",
            "166 images copied\n",
            "167 images copied\n",
            "168 images copied\n",
            "169 images copied\n",
            "170 images copied\n",
            "171 images copied\n",
            "172 images copied\n",
            "173 images copied\n",
            "174 images copied\n",
            "175 images copied\n",
            "176 images copied\n",
            "177 images copied\n",
            "178 images copied\n",
            "179 images copied\n",
            "180 images copied\n",
            "181 images copied\n",
            "182 images copied\n",
            "183 images copied\n",
            "184 images copied\n",
            "185 images copied\n",
            "186 images copied\n",
            "187 images copied\n",
            "188 images copied\n",
            "189 images copied\n",
            "190 images copied\n",
            "191 images copied\n",
            "192 images copied\n",
            "193 images copied\n",
            "194 images copied\n",
            "195 images copied\n",
            "196 images copied\n",
            "197 images copied\n",
            "198 images copied\n",
            "199 images copied\n",
            "200 images copied\n",
            "201 images copied\n",
            "202 images copied\n",
            "203 images copied\n",
            "204 images copied\n",
            "205 images copied\n",
            "206 images copied\n"
          ]
        }
      ],
      "source": [
        "#Move Positive images\n",
        "\n",
        "count=0\n",
        "dir_path=r'/content/drive/MyDrive/Pos'\n",
        "for directory in os.listdir(dir_path):\n",
        "  #print(directory)\n",
        "  imgpath=os.path.join(dir_path,directory)\n",
        "  #print(imgpath)\n",
        "  shutil.copy(imgpath,POS_PATH)\n",
        "  count=count+1\n",
        "  print(f\"{count} images copied\")\n",
        "\n",
        "  "
      ]
    },
    {
      "cell_type": "code",
      "execution_count": null,
      "metadata": {
        "id": "ia7xdGd9whc-",
        "colab": {
          "base_uri": "https://localhost:8080/"
        },
        "outputId": "7ebaacd4-08c0-4837-f47f-40fda93b7810"
      },
      "outputs": [
        {
          "output_type": "stream",
          "name": "stdout",
          "text": [
            "1 images copied\n",
            "2 images copied\n",
            "3 images copied\n",
            "4 images copied\n",
            "5 images copied\n",
            "6 images copied\n",
            "7 images copied\n",
            "8 images copied\n",
            "9 images copied\n",
            "10 images copied\n",
            "11 images copied\n",
            "12 images copied\n",
            "13 images copied\n",
            "14 images copied\n",
            "15 images copied\n",
            "16 images copied\n",
            "17 images copied\n",
            "18 images copied\n",
            "19 images copied\n",
            "20 images copied\n",
            "21 images copied\n",
            "22 images copied\n",
            "23 images copied\n",
            "24 images copied\n",
            "25 images copied\n",
            "26 images copied\n",
            "27 images copied\n",
            "28 images copied\n",
            "29 images copied\n",
            "30 images copied\n",
            "31 images copied\n",
            "32 images copied\n",
            "33 images copied\n",
            "34 images copied\n",
            "35 images copied\n",
            "36 images copied\n",
            "37 images copied\n",
            "38 images copied\n",
            "39 images copied\n",
            "40 images copied\n",
            "41 images copied\n",
            "42 images copied\n",
            "43 images copied\n",
            "44 images copied\n",
            "45 images copied\n",
            "46 images copied\n",
            "47 images copied\n",
            "48 images copied\n",
            "49 images copied\n",
            "50 images copied\n",
            "51 images copied\n",
            "52 images copied\n",
            "53 images copied\n",
            "54 images copied\n",
            "55 images copied\n",
            "56 images copied\n",
            "57 images copied\n",
            "58 images copied\n",
            "59 images copied\n",
            "60 images copied\n",
            "61 images copied\n",
            "62 images copied\n",
            "63 images copied\n",
            "64 images copied\n",
            "65 images copied\n",
            "66 images copied\n",
            "67 images copied\n",
            "68 images copied\n",
            "69 images copied\n",
            "70 images copied\n",
            "71 images copied\n",
            "72 images copied\n",
            "73 images copied\n",
            "74 images copied\n",
            "75 images copied\n",
            "76 images copied\n",
            "77 images copied\n",
            "78 images copied\n",
            "79 images copied\n",
            "80 images copied\n",
            "81 images copied\n",
            "82 images copied\n",
            "83 images copied\n",
            "84 images copied\n",
            "85 images copied\n",
            "86 images copied\n",
            "87 images copied\n",
            "88 images copied\n",
            "89 images copied\n",
            "90 images copied\n",
            "91 images copied\n",
            "92 images copied\n",
            "93 images copied\n",
            "94 images copied\n",
            "95 images copied\n",
            "96 images copied\n",
            "97 images copied\n",
            "98 images copied\n",
            "99 images copied\n",
            "100 images copied\n",
            "101 images copied\n",
            "102 images copied\n",
            "103 images copied\n",
            "104 images copied\n",
            "105 images copied\n",
            "106 images copied\n",
            "107 images copied\n",
            "108 images copied\n",
            "109 images copied\n",
            "110 images copied\n",
            "111 images copied\n",
            "112 images copied\n",
            "113 images copied\n",
            "114 images copied\n",
            "115 images copied\n",
            "116 images copied\n",
            "117 images copied\n",
            "118 images copied\n",
            "119 images copied\n",
            "120 images copied\n",
            "121 images copied\n",
            "122 images copied\n",
            "123 images copied\n",
            "124 images copied\n",
            "125 images copied\n",
            "126 images copied\n",
            "127 images copied\n",
            "128 images copied\n",
            "129 images copied\n",
            "130 images copied\n",
            "131 images copied\n",
            "132 images copied\n",
            "133 images copied\n",
            "134 images copied\n",
            "135 images copied\n",
            "136 images copied\n",
            "137 images copied\n",
            "138 images copied\n",
            "139 images copied\n",
            "140 images copied\n",
            "141 images copied\n",
            "142 images copied\n",
            "143 images copied\n",
            "144 images copied\n",
            "145 images copied\n",
            "146 images copied\n",
            "147 images copied\n",
            "148 images copied\n",
            "149 images copied\n",
            "150 images copied\n",
            "151 images copied\n",
            "152 images copied\n",
            "153 images copied\n",
            "154 images copied\n",
            "155 images copied\n",
            "156 images copied\n",
            "157 images copied\n",
            "158 images copied\n",
            "159 images copied\n",
            "160 images copied\n",
            "161 images copied\n",
            "162 images copied\n",
            "163 images copied\n",
            "164 images copied\n",
            "165 images copied\n",
            "166 images copied\n",
            "167 images copied\n",
            "168 images copied\n",
            "169 images copied\n",
            "170 images copied\n",
            "171 images copied\n",
            "172 images copied\n",
            "173 images copied\n",
            "174 images copied\n",
            "175 images copied\n",
            "176 images copied\n",
            "177 images copied\n",
            "178 images copied\n",
            "179 images copied\n",
            "180 images copied\n",
            "181 images copied\n",
            "182 images copied\n",
            "183 images copied\n",
            "184 images copied\n",
            "185 images copied\n",
            "186 images copied\n",
            "187 images copied\n",
            "188 images copied\n",
            "189 images copied\n",
            "190 images copied\n",
            "191 images copied\n",
            "192 images copied\n",
            "193 images copied\n",
            "194 images copied\n",
            "195 images copied\n",
            "196 images copied\n",
            "197 images copied\n",
            "198 images copied\n",
            "199 images copied\n"
          ]
        }
      ],
      "source": [
        "#Move Anchor images\n",
        "\n",
        "count=0\n",
        "dir_path=r'/content/drive/MyDrive/Arc'\n",
        "for directory in os.listdir(dir_path):\n",
        "  #print(directory)\n",
        "  imgpath=os.path.join(dir_path,directory)\n",
        "  #print(imgpath)\n",
        "  shutil.copy(imgpath,ANC_PATH)\n",
        "  count=count+1\n",
        "  print(f\"{count} images copied\")"
      ]
    },
    {
      "cell_type": "markdown",
      "metadata": {
        "id": "6KIgrrpPzCr2"
      },
      "source": [
        "# 3. Load and Preprocess Images"
      ]
    },
    {
      "cell_type": "markdown",
      "metadata": {
        "id": "7i9s7T0gzCr2"
      },
      "source": [
        "## 3.1 Get Image Directories"
      ]
    },
    {
      "cell_type": "code",
      "execution_count": null,
      "metadata": {
        "id": "gZ9EXszscLLL"
      },
      "outputs": [],
      "source": [
        "anchor=tf.data.Dataset.list_files(ANC_PATH+'/*jpg').take(199)\n",
        "positive= tf.data.Dataset.list_files(POS_PATH+'/*jpg').take(199)\n",
        "negative= tf.data.Dataset.list_files(NEG_PATH+'/*jpg').take(199)"
      ]
    },
    {
      "cell_type": "code",
      "execution_count": null,
      "metadata": {
        "id": "Gsyq_53-bgp1",
        "colab": {
          "base_uri": "https://localhost:8080/"
        },
        "outputId": "cd26e3c2-8061-44d6-d2da-26c721ac3b7f"
      },
      "outputs": [
        {
          "output_type": "stream",
          "name": "stdout",
          "text": [
            "b'data/anchor/03138d15-3833-11ed-9e6d-f0038cc82e1e.jpg'\n"
          ]
        }
      ],
      "source": [
        "#Test the tf.data\n",
        "\n",
        "test_dir=anchor.as_numpy_iterator()\n",
        "print(test_dir.next())"
      ]
    },
    {
      "cell_type": "markdown",
      "metadata": {
        "id": "pP42xoC_zCr2"
      },
      "source": [
        "## 3.2 Preprocessing - Scale and Resize"
      ]
    },
    {
      "cell_type": "code",
      "execution_count": null,
      "metadata": {
        "id": "xuU-2QEFjUB9"
      },
      "outputs": [],
      "source": [
        "#\n",
        "\n",
        "def preprocess(file_path):\n",
        "  #read in from the file_path\n",
        "  byte_image= tf.io.read_file(file_path)\n",
        "  # Load in the image\n",
        "  img=tf.io.decode_jpeg(byte_image)\n",
        "  #preprocessing steps - resizing the image to be 100x100x3\n",
        "  img=tf.image.resize(img,(105,105))\n",
        "  #Scale image to be 0 and 1\n",
        "  img= img/255\n",
        "  \n",
        "  return img\n",
        "   \n"
      ]
    },
    {
      "cell_type": "code",
      "execution_count": null,
      "metadata": {
        "id": "m8hQrpfgjYWv"
      },
      "outputs": [],
      "source": [
        "img=preprocess('data/anchor/fb26ac56-3832-11ed-a9a1-f0038cc82e1e.jpg')"
      ]
    },
    {
      "cell_type": "code",
      "execution_count": null,
      "metadata": {
        "id": "ru0IQRykjqvG",
        "colab": {
          "base_uri": "https://localhost:8080/"
        },
        "outputId": "9d199c8e-62b4-49f2-e5e5-a9f8c7d6a168"
      },
      "outputs": [
        {
          "output_type": "stream",
          "name": "stdout",
          "text": [
            "tf.Tensor(\n",
            "[[[0.6404295  0.66003734 0.67180204]\n",
            "  [0.64863944 0.6682473  0.680012  ]\n",
            "  [0.65910363 0.6787115  0.6904762 ]\n",
            "  ...\n",
            "  [0.71129787 0.69169    0.77796453]\n",
            "  [0.7037348  0.684127   0.7704015 ]\n",
            "  [0.70074695 0.6811391  0.7674136 ]]\n",
            "\n",
            " [[0.662465   0.6820728  0.6938375 ]\n",
            "  [0.66610646 0.6857143  0.697479  ]\n",
            "  [0.66610646 0.6857143  0.697479  ]\n",
            "  ...\n",
            "  [0.71484596 0.6952381  0.7815126 ]\n",
            "  [0.7072829  0.68767506 0.7739496 ]\n",
            "  [0.70336133 0.6837535  0.77002805]]\n",
            "\n",
            " [[0.6550998  0.67470765 0.68647236]\n",
            "  [0.66147125 0.6810791  0.6928438 ]\n",
            "  [0.66704017 0.686648   0.6984127 ]\n",
            "  ...\n",
            "  [0.5573296  0.53772175 0.62399626]\n",
            "  [0.54998666 0.5303788  0.6166533 ]\n",
            "  [0.54985994 0.5302521  0.6165266 ]]\n",
            "\n",
            " ...\n",
            "\n",
            " [[0.17554797 0.18731268 0.2618225 ]\n",
            "  [0.20050015 0.21226485 0.28677464]\n",
            "  [0.2241274  0.2358921  0.31040192]\n",
            "  ...\n",
            "  [0.43374458 0.34606954 0.2512984 ]\n",
            "  [0.1661462  0.12609021 0.0851939 ]\n",
            "  [0.14277491 0.13529418 0.13165271]]\n",
            "\n",
            " [[0.16956116 0.18132587 0.25583568]\n",
            "  [0.17368947 0.18545417 0.259964  ]\n",
            "  [0.19841269 0.21017739 0.2846872 ]\n",
            "  ...\n",
            "  [0.4116311  0.3303987  0.23348004]\n",
            "  [0.11286481 0.08009174 0.03555397]\n",
            "  [0.08972916 0.08702141 0.08160592]]\n",
            "\n",
            " [[0.1764706  0.1882353  0.2627451 ]\n",
            "  [0.1764706  0.1882353  0.2627451 ]\n",
            "  [0.1821662  0.19393091 0.2684407 ]\n",
            "  ...\n",
            "  [0.39346385 0.3218486  0.22100836]\n",
            "  [0.11736672 0.08487375 0.04033598]\n",
            "  [0.08506069 0.08748833 0.08085901]]], shape=(105, 105, 3), dtype=float32)\n"
          ]
        }
      ],
      "source": [
        "print(img)"
      ]
    },
    {
      "cell_type": "code",
      "execution_count": null,
      "metadata": {
        "id": "8EcVyZ2Sjee-",
        "colab": {
          "base_uri": "https://localhost:8080/",
          "height": 285
        },
        "outputId": "470ab623-3dd9-4152-e63f-68e9cf20b714"
      },
      "outputs": [
        {
          "output_type": "execute_result",
          "data": {
            "text/plain": [
              "<matplotlib.image.AxesImage at 0x7f0f6616c890>"
            ]
          },
          "metadata": {},
          "execution_count": 23
        },
        {
          "output_type": "display_data",
          "data": {
            "text/plain": [
              "<Figure size 432x288 with 1 Axes>"
            ],
            "image/png": "[encoded data removed]"
          },
          "metadata": {
            "needs_background": "light"
          }
        }
      ],
      "source": [
        "plt.imshow(img)\n"
      ]
    },
    {
      "cell_type": "code",
      "execution_count": null,
      "metadata": {
        "id": "qQwpv65km0_m",
        "colab": {
          "base_uri": "https://localhost:8080/"
        },
        "outputId": "ce173ba8-2708-459c-fea5-1d885885bf0a"
      },
      "outputs": [
        {
          "output_type": "execute_result",
          "data": {
            "text/plain": [
              "array([105, 105,   3], dtype=int32)"
            ]
          },
          "metadata": {},
          "execution_count": 24
        }
      ],
      "source": [
        "tf.shape(img).numpy()"
      ]
    },
    {
      "cell_type": "code",
      "execution_count": null,
      "metadata": {
        "id": "t1RdNACam-Nn"
      },
      "outputs": [],
      "source": [
        "converted = tf.image.rgb_to_grayscale(img)"
      ]
    },
    {
      "cell_type": "code",
      "execution_count": null,
      "metadata": {
        "id": "lt9E1P82jhav",
        "colab": {
          "base_uri": "https://localhost:8080/"
        },
        "outputId": "336a7371-aad2-4ee5-bf6d-fcc357df79f4"
      },
      "outputs": [
        {
          "output_type": "execute_result",
          "data": {
            "text/plain": [
              "array([105, 105,   1], dtype=int32)"
            ]
          },
          "metadata": {},
          "execution_count": 26
        }
      ],
      "source": [
        "tf.shape(converted).numpy()"
      ]
    },
    {
      "cell_type": "markdown",
      "metadata": {
        "id": "mRCGwNYEzCr3"
      },
      "source": [
        "# 3.3 Create Labelled Dataset"
      ]
    },
    {
      "cell_type": "code",
      "execution_count": null,
      "metadata": {
        "id": "vMv_P5nn2v_R"
      },
      "outputs": [],
      "source": [
        "positives=tf.data.Dataset.zip((anchor,positive,tf.data.Dataset.from_tensor_slices(tf.ones(len(anchor)))))\n",
        "negatives=tf.data.Dataset.zip((anchor,negative,tf.data.Dataset.from_tensor_slices(tf.zeros(len(anchor)))))\n",
        "data= positives.concatenate(negatives)"
      ]
    },
    {
      "cell_type": "code",
      "execution_count": null,
      "metadata": {
        "id": "uYq-rgHK2zAg",
        "colab": {
          "base_uri": "https://localhost:8080/"
        },
        "outputId": "9ca8d01b-ff62-46d4-cc06-10dfc03de346"
      },
      "outputs": [
        {
          "output_type": "execute_result",
          "data": {
            "text/plain": [
              "<ConcatenateDataset shapes: ((), (), ()), types: (tf.string, tf.string, tf.float32)>"
            ]
          },
          "metadata": {},
          "execution_count": 28
        }
      ],
      "source": [
        "data"
      ]
    },
    {
      "cell_type": "code",
      "execution_count": null,
      "metadata": {
        "id": "oHk7-VGJ22xZ",
        "colab": {
          "base_uri": "https://localhost:8080/"
        },
        "outputId": "f832cceb-8dd1-44de-bdef-3d990f695026"
      },
      "outputs": [
        {
          "output_type": "execute_result",
          "data": {
            "text/plain": [
              "<tf.Tensor: shape=(199,), dtype=float32, numpy=\n",
              "array([1., 1., 1., 1., 1., 1., 1., 1., 1., 1., 1., 1., 1., 1., 1., 1., 1.,\n",
              "       1., 1., 1., 1., 1., 1., 1., 1., 1., 1., 1., 1., 1., 1., 1., 1., 1.,\n",
              "       1., 1., 1., 1., 1., 1., 1., 1., 1., 1., 1., 1., 1., 1., 1., 1., 1.,\n",
              "       1., 1., 1., 1., 1., 1., 1., 1., 1., 1., 1., 1., 1., 1., 1., 1., 1.,\n",
              "       1., 1., 1., 1., 1., 1., 1., 1., 1., 1., 1., 1., 1., 1., 1., 1., 1.,\n",
              "       1., 1., 1., 1., 1., 1., 1., 1., 1., 1., 1., 1., 1., 1., 1., 1., 1.,\n",
              "       1., 1., 1., 1., 1., 1., 1., 1., 1., 1., 1., 1., 1., 1., 1., 1., 1.,\n",
              "       1., 1., 1., 1., 1., 1., 1., 1., 1., 1., 1., 1., 1., 1., 1., 1., 1.,\n",
              "       1., 1., 1., 1., 1., 1., 1., 1., 1., 1., 1., 1., 1., 1., 1., 1., 1.,\n",
              "       1., 1., 1., 1., 1., 1., 1., 1., 1., 1., 1., 1., 1., 1., 1., 1., 1.,\n",
              "       1., 1., 1., 1., 1., 1., 1., 1., 1., 1., 1., 1., 1., 1., 1., 1., 1.,\n",
              "       1., 1., 1., 1., 1., 1., 1., 1., 1., 1., 1., 1.], dtype=float32)>"
            ]
          },
          "metadata": {},
          "execution_count": 29
        }
      ],
      "source": [
        "tf.ones(len(anchor))"
      ]
    },
    {
      "cell_type": "code",
      "execution_count": null,
      "metadata": {
        "id": "Fg571vPS25l7",
        "colab": {
          "base_uri": "https://localhost:8080/"
        },
        "outputId": "89881ca1-0133-4829-da55-71fda85e660f"
      },
      "outputs": [
        {
          "output_type": "execute_result",
          "data": {
            "text/plain": [
              "[1.0,\n",
              " 1.0,\n",
              " 1.0,\n",
              " 1.0,\n",
              " 1.0,\n",
              " 1.0,\n",
              " 1.0,\n",
              " 1.0,\n",
              " 1.0,\n",
              " 1.0,\n",
              " 1.0,\n",
              " 1.0,\n",
              " 1.0,\n",
              " 1.0,\n",
              " 1.0,\n",
              " 1.0,\n",
              " 1.0,\n",
              " 1.0,\n",
              " 1.0,\n",
              " 1.0,\n",
              " 1.0,\n",
              " 1.0,\n",
              " 1.0,\n",
              " 1.0,\n",
              " 1.0,\n",
              " 1.0,\n",
              " 1.0,\n",
              " 1.0,\n",
              " 1.0,\n",
              " 1.0,\n",
              " 1.0,\n",
              " 1.0,\n",
              " 1.0,\n",
              " 1.0,\n",
              " 1.0,\n",
              " 1.0,\n",
              " 1.0,\n",
              " 1.0,\n",
              " 1.0,\n",
              " 1.0,\n",
              " 1.0,\n",
              " 1.0,\n",
              " 1.0,\n",
              " 1.0,\n",
              " 1.0,\n",
              " 1.0,\n",
              " 1.0,\n",
              " 1.0,\n",
              " 1.0,\n",
              " 1.0,\n",
              " 1.0,\n",
              " 1.0,\n",
              " 1.0,\n",
              " 1.0,\n",
              " 1.0,\n",
              " 1.0,\n",
              " 1.0,\n",
              " 1.0,\n",
              " 1.0,\n",
              " 1.0,\n",
              " 1.0,\n",
              " 1.0,\n",
              " 1.0,\n",
              " 1.0,\n",
              " 1.0,\n",
              " 1.0,\n",
              " 1.0,\n",
              " 1.0,\n",
              " 1.0,\n",
              " 1.0,\n",
              " 1.0,\n",
              " 1.0,\n",
              " 1.0,\n",
              " 1.0,\n",
              " 1.0,\n",
              " 1.0,\n",
              " 1.0,\n",
              " 1.0,\n",
              " 1.0,\n",
              " 1.0,\n",
              " 1.0,\n",
              " 1.0,\n",
              " 1.0,\n",
              " 1.0,\n",
              " 1.0,\n",
              " 1.0,\n",
              " 1.0,\n",
              " 1.0,\n",
              " 1.0,\n",
              " 1.0,\n",
              " 1.0,\n",
              " 1.0,\n",
              " 1.0,\n",
              " 1.0,\n",
              " 1.0,\n",
              " 1.0,\n",
              " 1.0,\n",
              " 1.0,\n",
              " 1.0,\n",
              " 1.0,\n",
              " 1.0,\n",
              " 1.0,\n",
              " 1.0,\n",
              " 1.0,\n",
              " 1.0,\n",
              " 1.0,\n",
              " 1.0,\n",
              " 1.0,\n",
              " 1.0,\n",
              " 1.0,\n",
              " 1.0,\n",
              " 1.0,\n",
              " 1.0,\n",
              " 1.0,\n",
              " 1.0,\n",
              " 1.0,\n",
              " 1.0,\n",
              " 1.0,\n",
              " 1.0,\n",
              " 1.0,\n",
              " 1.0,\n",
              " 1.0,\n",
              " 1.0,\n",
              " 1.0,\n",
              " 1.0,\n",
              " 1.0,\n",
              " 1.0,\n",
              " 1.0,\n",
              " 1.0,\n",
              " 1.0,\n",
              " 1.0,\n",
              " 1.0,\n",
              " 1.0,\n",
              " 1.0,\n",
              " 1.0,\n",
              " 1.0,\n",
              " 1.0,\n",
              " 1.0,\n",
              " 1.0,\n",
              " 1.0,\n",
              " 1.0,\n",
              " 1.0,\n",
              " 1.0,\n",
              " 1.0,\n",
              " 1.0,\n",
              " 1.0,\n",
              " 1.0,\n",
              " 1.0,\n",
              " 1.0,\n",
              " 1.0,\n",
              " 1.0,\n",
              " 1.0,\n",
              " 1.0,\n",
              " 1.0,\n",
              " 1.0,\n",
              " 1.0,\n",
              " 1.0,\n",
              " 1.0,\n",
              " 1.0,\n",
              " 1.0,\n",
              " 1.0,\n",
              " 1.0,\n",
              " 1.0,\n",
              " 1.0,\n",
              " 1.0,\n",
              " 1.0,\n",
              " 1.0,\n",
              " 1.0,\n",
              " 1.0,\n",
              " 1.0,\n",
              " 1.0,\n",
              " 1.0,\n",
              " 1.0,\n",
              " 1.0,\n",
              " 1.0,\n",
              " 1.0,\n",
              " 1.0,\n",
              " 1.0,\n",
              " 1.0,\n",
              " 1.0,\n",
              " 1.0,\n",
              " 1.0,\n",
              " 1.0,\n",
              " 1.0,\n",
              " 1.0,\n",
              " 1.0,\n",
              " 1.0,\n",
              " 1.0,\n",
              " 1.0,\n",
              " 1.0,\n",
              " 1.0,\n",
              " 1.0,\n",
              " 1.0,\n",
              " 1.0,\n",
              " 1.0,\n",
              " 1.0,\n",
              " 1.0,\n",
              " 1.0,\n",
              " 1.0]"
            ]
          },
          "metadata": {},
          "execution_count": 30
        }
      ],
      "source": [
        "dataset=tf.data.Dataset.from_tensor_slices(tf.ones(len(anchor)))\n",
        "list(dataset.as_numpy_iterator())"
      ]
    },
    {
      "cell_type": "code",
      "execution_count": null,
      "metadata": {
        "id": "AAfLtmRP3BzQ"
      },
      "outputs": [],
      "source": [
        "sample= data.as_numpy_iterator()\n",
        "example=sample.next()"
      ]
    },
    {
      "cell_type": "markdown",
      "metadata": {
        "id": "SBk4tcjjzCr3"
      },
      "source": [
        "# 3.4 Build Train and Test Partition"
      ]
    },
    {
      "cell_type": "code",
      "execution_count": null,
      "metadata": {
        "id": "W7gU4i3Gr2CJ"
      },
      "outputs": [],
      "source": [
        "def preprocess_twin(input_img,validation_img,label):\n",
        "  return (preprocess(input_img),preprocess(validation_img),label)"
      ]
    },
    {
      "cell_type": "code",
      "execution_count": null,
      "metadata": {
        "id": "IyDPT8x9tjYf"
      },
      "outputs": [],
      "source": [
        "res = preprocess_twin(*example)"
      ]
    },
    {
      "cell_type": "code",
      "execution_count": null,
      "metadata": {
        "id": "5cVeqss8t5GY",
        "colab": {
          "base_uri": "https://localhost:8080/",
          "height": 285
        },
        "outputId": "9bc6e041-1c4e-4af6-da51-d7c5f523490a"
      },
      "outputs": [
        {
          "output_type": "execute_result",
          "data": {
            "text/plain": [
              "<matplotlib.image.AxesImage at 0x7f0f6609b510>"
            ]
          },
          "metadata": {},
          "execution_count": 34
        },
        {
          "output_type": "display_data",
          "data": {
            "text/plain": [
              "<Figure size 432x288 with 1 Axes>"
            ],
            "image/png": "[encoded data removed]"
          },
          "metadata": {
            "needs_background": "light"
          }
        }
      ],
      "source": [
        "plt.imshow(res[1])"
      ]
    },
    {
      "cell_type": "code",
      "execution_count": null,
      "metadata": {
        "id": "jeZ5N0mcCarL"
      },
      "outputs": [],
      "source": [
        "#Build dataloader pipeline\n",
        "data= data.map(preprocess_twin)\n",
        "data=data.cache()\n",
        "data=data.shuffle(buffer_size=1024)"
      ]
    },
    {
      "cell_type": "code",
      "execution_count": null,
      "metadata": {
        "id": "21osNOrjGHkU"
      },
      "outputs": [],
      "source": [
        "#Training Partition\n",
        "\n",
        "train_data= data.take(round(len(data)*.7))\n",
        "train_data= train_data.batch(16)\n",
        "train_data= train_data.prefetch(8)"
      ]
    },
    {
      "cell_type": "code",
      "execution_count": null,
      "metadata": {
        "id": "IBy9qHDc8YL0",
        "colab": {
          "base_uri": "https://localhost:8080/"
        },
        "outputId": "4c504842-737b-4f41-ac8f-358059df0718"
      },
      "outputs": [
        {
          "output_type": "execute_result",
          "data": {
            "text/plain": [
              "<PrefetchDataset shapes: ((None, 105, 105, None), (None, 105, 105, None), (None,)), types: (tf.float32, tf.float32, tf.float32)>"
            ]
          },
          "metadata": {},
          "execution_count": 37
        }
      ],
      "source": [
        "train_data"
      ]
    },
    {
      "cell_type": "code",
      "execution_count": null,
      "metadata": {
        "id": "Aw4Z1abTI4p8"
      },
      "outputs": [],
      "source": [
        "# Testing partition\n",
        "test_data= data.skip(round(len(data)*.7))\n",
        "test_data= data.take(round(len(data)*.3))\n",
        "test_data= test_data.batch(16)\n",
        "test_data= test_data.prefetch(8)"
      ]
    },
    {
      "cell_type": "markdown",
      "metadata": {
        "id": "fpm5_RRizCr3"
      },
      "source": [
        "# 4. Model Engineering"
      ]
    },
    {
      "cell_type": "markdown",
      "metadata": {
        "id": "IYemW8sCzCr4"
      },
      "source": [
        "## 4.1 Build Embedding Layer"
      ]
    },
    {
      "cell_type": "code",
      "execution_count": null,
      "metadata": {
        "id": "5TEdenbzJWMx",
        "colab": {
          "base_uri": "https://localhost:8080/"
        },
        "outputId": "053b4341-c3d4-4fec-8997-0fd3a7c3c925"
      },
      "outputs": [
        {
          "output_type": "stream",
          "name": "stdout",
          "text": [
            "KerasTensor(type_spec=TensorSpec(shape=(None, 105, 105, 3), dtype=tf.float32, name='input_image'), name='input_image', description=\"created by layer 'input_image'\")\n",
            "KerasTensor(type_spec=TensorSpec(shape=(None, 96, 96, 64), dtype=tf.float32, name=None), name='conv2d/Relu:0', description=\"created by layer 'conv2d'\")\n"
          ]
        },
        {
          "output_type": "execute_result",
          "data": {
            "text/plain": [
              "<KerasTensor: shape=(None, 48, 48, 64) dtype=float32 (created by layer 'max_pooling2d')>"
            ]
          },
          "metadata": {},
          "execution_count": 39
        }
      ],
      "source": [
        "inp =Input(shape=(105,105,3),name='input_image')\n",
        "print(inp)\n",
        "c1= Conv2D(64,(10,10), activation='relu')(inp)\n",
        "print(c1)\n",
        "m1= MaxPooling2D(64,(2,2), padding='same')(c1)\n",
        "m1"
      ]
    },
    {
      "cell_type": "code",
      "execution_count": null,
      "metadata": {
        "id": "_kkJkX_UJiYC"
      },
      "outputs": [],
      "source": [
        "def make_embedding():\n",
        "\n",
        "  #First Block\n",
        "  inp =Input(shape=(105,105,3),name='input_image')\n",
        "  c1= Conv2D(64,(10,10), activation='relu')(inp)\n",
        "  m1= MaxPooling2D(64,(2,2), padding='same')(c1)\n",
        "\n",
        "  #Second Block\n",
        "  c2= Conv2D(128,(7,7), activation='relu')(m1)\n",
        "  m2= MaxPooling2D(64,(2,2), padding='same')(c2)\n",
        "\n",
        "  #Third Block\n",
        "  c3= Conv2D(128, (4,4), activation='relu')(m2)\n",
        "  m3= MaxPooling2D(64,(2,2), padding='same')(c3)\n",
        "\n",
        "  #Final Block\n",
        "  c4= Conv2D(256,(4,4), activation= 'relu')(m3)\n",
        "  f1= Flatten()(c4)\n",
        "  d1= Dense(4096, activation='sigmoid')(f1)\n",
        "\n",
        "\n",
        "  return Model(inputs=[inp], outputs=[d1], name='embedding')"
      ]
    },
    {
      "cell_type": "code",
      "execution_count": null,
      "metadata": {
        "id": "3g5qzW7aJs3d",
        "colab": {
          "base_uri": "https://localhost:8080/"
        },
        "outputId": "342a9d85-e7ca-420d-cb07-82578bd9f4cb"
      },
      "outputs": [
        {
          "output_type": "stream",
          "name": "stdout",
          "text": [
            "Model: \"embedding\"\n",
            "_________________________________________________________________\n",
            "Layer (type)                 Output Shape              Param #   \n",
            "=================================================================\n",
            "input_image (InputLayer)     [(None, 105, 105, 3)]     0         \n",
            "_________________________________________________________________\n",
            "conv2d_1 (Conv2D)            (None, 96, 96, 64)        19264     \n",
            "_________________________________________________________________\n",
            "max_pooling2d_1 (MaxPooling2 (None, 48, 48, 64)        0         \n",
            "_________________________________________________________________\n",
            "conv2d_2 (Conv2D)            (None, 42, 42, 128)       401536    \n",
            "_________________________________________________________________\n",
            "max_pooling2d_2 (MaxPooling2 (None, 21, 21, 128)       0         \n",
            "_________________________________________________________________\n",
            "conv2d_3 (Conv2D)            (None, 18, 18, 128)       262272    \n",
            "_________________________________________________________________\n",
            "max_pooling2d_3 (MaxPooling2 (None, 9, 9, 128)         0         \n",
            "_________________________________________________________________\n",
            "conv2d_4 (Conv2D)            (None, 6, 6, 256)         524544    \n",
            "_________________________________________________________________\n",
            "flatten (Flatten)            (None, 9216)              0         \n",
            "_________________________________________________________________\n",
            "dense (Dense)                (None, 4096)              37752832  \n",
            "=================================================================\n",
            "Total params: 38,960,448\n",
            "Trainable params: 38,960,448\n",
            "Non-trainable params: 0\n",
            "_________________________________________________________________\n"
          ]
        }
      ],
      "source": [
        "embedding=make_embedding()\n",
        "embedding.summary()"
      ]
    },
    {
      "cell_type": "markdown",
      "metadata": {
        "id": "bDQj1f9rzCr4"
      },
      "source": [
        "## 4.2 Build Distance Layer"
      ]
    },
    {
      "cell_type": "code",
      "execution_count": null,
      "metadata": {
        "id": "nkRs7a6rJQdA"
      },
      "outputs": [],
      "source": [
        "#Siamese L1 distance class\n",
        "class L1Dist(Layer):\n",
        "  def __init__(self, **kwargs) :\n",
        "    super().__init__()\n",
        "\n",
        "#Similarity Calculation \n",
        "\n",
        "  def call(self, input_embedding, validation_embedding):\n",
        "      return tf.math.abs(input_embedding - validation_embedding)"
      ]
    },
    {
      "cell_type": "markdown",
      "metadata": {
        "id": "fFor9VD7zCr5"
      },
      "source": [
        "## 4.3 Make Siamese Model"
      ]
    },
    {
      "cell_type": "code",
      "execution_count": null,
      "metadata": {
        "id": "nl_Jf9QpR9gU"
      },
      "outputs": [],
      "source": [
        "input_image= Input(name='input_image', shape=(105,105,3))"
      ]
    },
    {
      "cell_type": "code",
      "execution_count": null,
      "metadata": {
        "id": "dH_0e_sbSJbj"
      },
      "outputs": [],
      "source": [
        "validation_image= Input(name='validation_image', shape=(105,105,3))"
      ]
    },
    {
      "cell_type": "code",
      "execution_count": null,
      "metadata": {
        "id": "2o_EdhbzSRda"
      },
      "outputs": [],
      "source": [
        "inp_embedding = embedding(input_image)\n",
        "val_embedding = embedding(validation_image)"
      ]
    },
    {
      "cell_type": "code",
      "execution_count": null,
      "metadata": {
        "id": "pHX9zfTFSSRm"
      },
      "outputs": [],
      "source": [
        "\n",
        "siamese_layer = L1Dist()"
      ]
    },
    {
      "cell_type": "code",
      "execution_count": null,
      "metadata": {
        "id": "q6O7uYpWSVRq"
      },
      "outputs": [],
      "source": [
        "distances = siamese_layer(inp_embedding, val_embedding)"
      ]
    },
    {
      "cell_type": "code",
      "execution_count": null,
      "metadata": {
        "id": "mRkIHAovSXYB"
      },
      "outputs": [],
      "source": [
        "classifier = Dense(1, activation='sigmoid')(distances)"
      ]
    },
    {
      "cell_type": "code",
      "execution_count": null,
      "metadata": {
        "id": "Zo_LI4GuSca7",
        "colab": {
          "base_uri": "https://localhost:8080/"
        },
        "outputId": "58885aed-3621-4b73-d042-6e44e7aa357b"
      },
      "outputs": [
        {
          "output_type": "execute_result",
          "data": {
            "text/plain": [
              "<KerasTensor: shape=(None, 1) dtype=float32 (created by layer 'dense_1')>"
            ]
          },
          "metadata": {},
          "execution_count": 49
        }
      ],
      "source": [
        "classifier"
      ]
    },
    {
      "cell_type": "code",
      "execution_count": null,
      "metadata": {
        "id": "IsPodHjlSdET"
      },
      "outputs": [],
      "source": [
        "siamese_network = Model(inputs=[input_image, validation_image], outputs=classifier, name='SiameseNetwork')"
      ]
    },
    {
      "cell_type": "code",
      "execution_count": null,
      "metadata": {
        "id": "a4dtvJFlSgZ9",
        "colab": {
          "base_uri": "https://localhost:8080/"
        },
        "outputId": "304823af-7b74-4897-e8df-b334623b1726"
      },
      "outputs": [
        {
          "output_type": "stream",
          "name": "stdout",
          "text": [
            "Model: \"SiameseNetwork\"\n",
            "__________________________________________________________________________________________________\n",
            "Layer (type)                    Output Shape         Param #     Connected to                     \n",
            "==================================================================================================\n",
            "input_image (InputLayer)        [(None, 105, 105, 3) 0                                            \n",
            "__________________________________________________________________________________________________\n",
            "validation_image (InputLayer)   [(None, 105, 105, 3) 0                                            \n",
            "__________________________________________________________________________________________________\n",
            "embedding (Functional)          (None, 4096)         38960448    input_image[0][0]                \n",
            "                                                                 validation_image[0][0]           \n",
            "__________________________________________________________________________________________________\n",
            "l1_dist (L1Dist)                (None, 4096)         0           embedding[0][0]                  \n",
            "                                                                 embedding[1][0]                  \n",
            "__________________________________________________________________________________________________\n",
            "dense_1 (Dense)                 (None, 1)            4097        l1_dist[0][0]                    \n",
            "==================================================================================================\n",
            "Total params: 38,964,545\n",
            "Trainable params: 38,964,545\n",
            "Non-trainable params: 0\n",
            "__________________________________________________________________________________________________\n"
          ]
        }
      ],
      "source": [
        "siamese_network.summary()"
      ]
    },
    {
      "cell_type": "code",
      "execution_count": null,
      "metadata": {
        "id": "vXL_YspeK2E2"
      },
      "outputs": [],
      "source": [
        "def make_siamese_model():\n",
        "\n",
        "  #Anchor image in the Neural Network\n",
        "  input_image= Input(name='input_image', shape=(105,105,3))\n",
        "\n",
        "  #Validation image in the Neural Network\n",
        "  validation_image= Input(name='validation_image', shape=(105,105,3))\n",
        "\n",
        "  #combine siamese distance components\n",
        "  siamese_layer=L1Dist()\n",
        "  siamese_layer._name= 'distance'\n",
        "  distances= siamese_layer(embedding(input_image),embedding(validation_image))\n",
        "\n",
        "  #Classification Layer\n",
        "  classifier= Dense(1, activation='sigmoid')(distances)\n",
        "\n",
        "  return Model(inputs=[input_image, validation_image], outputs=classifier, name='SiameseNetwork')\n"
      ]
    },
    {
      "cell_type": "code",
      "execution_count": null,
      "metadata": {
        "id": "2dIMMXqXPx9m",
        "colab": {
          "base_uri": "https://localhost:8080/"
        },
        "outputId": "c2d71a0d-aeb8-4c2c-9c10-3e8e93403c92"
      },
      "outputs": [
        {
          "output_type": "stream",
          "name": "stdout",
          "text": [
            "Model: \"SiameseNetwork\"\n",
            "__________________________________________________________________________________________________\n",
            "Layer (type)                    Output Shape         Param #     Connected to                     \n",
            "==================================================================================================\n",
            "input_image (InputLayer)        [(None, 105, 105, 3) 0                                            \n",
            "__________________________________________________________________________________________________\n",
            "validation_image (InputLayer)   [(None, 105, 105, 3) 0                                            \n",
            "__________________________________________________________________________________________________\n",
            "embedding (Functional)          (None, 4096)         38960448    input_image[0][0]                \n",
            "                                                                 validation_image[0][0]           \n",
            "__________________________________________________________________________________________________\n",
            "distance (L1Dist)               (None, 4096)         0           embedding[2][0]                  \n",
            "                                                                 embedding[3][0]                  \n",
            "__________________________________________________________________________________________________\n",
            "dense_2 (Dense)                 (None, 1)            4097        distance[0][0]                   \n",
            "==================================================================================================\n",
            "Total params: 38,964,545\n",
            "Trainable params: 38,964,545\n",
            "Non-trainable params: 0\n",
            "__________________________________________________________________________________________________\n"
          ]
        }
      ],
      "source": [
        "siamese_model= make_siamese_model()\n",
        "siamese_model.summary()"
      ]
    },
    {
      "cell_type": "markdown",
      "metadata": {
        "id": "kFSas060zCr5"
      },
      "source": [
        "# 5. Training"
      ]
    },
    {
      "cell_type": "markdown",
      "metadata": {
        "id": "x4TI_L63zCr6"
      },
      "source": [
        "## 5.1 Setup Loss and Optimizer"
      ]
    },
    {
      "cell_type": "code",
      "execution_count": null,
      "metadata": {
        "id": "ZWTeUJYck1qW"
      },
      "outputs": [],
      "source": [
        "binary_cross_loss= tf.losses.BinaryCrossentropy()"
      ]
    },
    {
      "cell_type": "code",
      "execution_count": null,
      "metadata": {
        "id": "xQ9fYBdmlGkw"
      },
      "outputs": [],
      "source": [
        "opt=tf.keras.optimizers.Adam(1e-4)"
      ]
    },
    {
      "cell_type": "markdown",
      "metadata": {
        "id": "RHZn1ak9zCr6"
      },
      "source": [
        "## 5.2 Establish Checkpoints"
      ]
    },
    {
      "cell_type": "code",
      "execution_count": null,
      "metadata": {
        "id": "2xe_-mZtlfvd"
      },
      "outputs": [],
      "source": [
        "#reload from the checkpoints model.load.('path_to_checkpoint')\n",
        "#to use pre trained weight\n",
        "\n",
        "checkpoint_dir=\"./training_checkpoint\"\n",
        "checkpoint_prefix=os.path.join(checkpoint_dir,'ckpt')\n",
        "checkpoint=tf.train.Checkpoint(opt=opt, siamese_model=siamese_model)"
      ]
    },
    {
      "cell_type": "markdown",
      "metadata": {
        "id": "ifWXPbUXzCr6"
      },
      "source": [
        "## 5.3 Build Train Step Function"
      ]
    },
    {
      "cell_type": "code",
      "execution_count": null,
      "metadata": {
        "id": "TRHzw_eDysdY"
      },
      "outputs": [],
      "source": [
        "@tf.function\n",
        "def train_step(batch):\n",
        "\n",
        "  with tf.GradientTape() as tape:\n",
        "    # Get anchor and positive/negative image\n",
        "    X=batch[:2]\n",
        "    #Get label\n",
        "    y=batch[2]\n",
        "\n",
        "    #Forward pass\n",
        "    yhat= siamese_model(X, training=True)\n",
        "    #calculate loss\n",
        "    loss= binary_cross_loss(y,yhat)\n",
        "\n",
        "    #calculate gradient\n",
        "    grad= tape.gradient(loss,siamese_model.trainable_variables)\n",
        "\n",
        "    #calculate updated weights and apply to siamese model\n",
        "    opt.apply_gradients(zip(grad,siamese_model.trainable_variables))\n",
        "\n"
      ]
    },
    {
      "cell_type": "code",
      "execution_count": null,
      "metadata": {
        "id": "bhmuI6EH3SkQ"
      },
      "outputs": [],
      "source": [
        "test_batch = train_data.as_numpy_iterator()"
      ]
    },
    {
      "cell_type": "code",
      "execution_count": null,
      "metadata": {
        "id": "SwvMl97L3gzM"
      },
      "outputs": [],
      "source": [
        "batch_1 = test_batch.next()"
      ]
    },
    {
      "cell_type": "code",
      "execution_count": null,
      "metadata": {
        "id": "ieHIgtiR3ghX"
      },
      "outputs": [],
      "source": [
        "X = batch_1[:2]"
      ]
    },
    {
      "cell_type": "code",
      "execution_count": null,
      "metadata": {
        "id": "QzrlzJ-83gMm"
      },
      "outputs": [],
      "source": [
        "y = batch_1[2]"
      ]
    },
    {
      "cell_type": "code",
      "execution_count": null,
      "metadata": {
        "id": "cIF_ceQE3gJ3",
        "colab": {
          "base_uri": "https://localhost:8080/"
        },
        "outputId": "286b4172-202e-4535-92df-ed433e125273"
      },
      "outputs": [
        {
          "output_type": "execute_result",
          "data": {
            "text/plain": [
              "array([0., 1., 0., 0., 0., 1., 0., 0., 0., 0., 0., 0., 0., 0., 1., 1.],\n",
              "      dtype=float32)"
            ]
          },
          "metadata": {},
          "execution_count": 62
        }
      ],
      "source": [
        "y"
      ]
    },
    {
      "cell_type": "code",
      "execution_count": null,
      "metadata": {
        "id": "6uFcGyhE3gHI"
      },
      "outputs": [],
      "source": []
    },
    {
      "cell_type": "code",
      "execution_count": null,
      "metadata": {
        "id": "2iaCxFi53gEO"
      },
      "outputs": [],
      "source": []
    },
    {
      "cell_type": "code",
      "execution_count": null,
      "metadata": {
        "id": "UnZ1WY_J3gA9"
      },
      "outputs": [],
      "source": []
    },
    {
      "cell_type": "markdown",
      "metadata": {
        "id": "HOrkU9zYzCr7"
      },
      "source": [
        "## 5.4 Build Training Loop"
      ]
    },
    {
      "cell_type": "code",
      "execution_count": null,
      "metadata": {
        "id": "XaTGTckC4cgF"
      },
      "outputs": [],
      "source": [
        "def train(train_data, EPOCHS):\n",
        "  # Loop through each epoch\n",
        "  for epoch in range (1, EPOCHS+1):\n",
        "    print('\\n Epoch {}/{}'.format(epoch,EPOCHS))\n",
        "    progbar= tf.keras.utils.Progbar(len(train_data))\n",
        "\n",
        "    #Loop through each batch\n",
        "    for idx,batch in enumerate(train_data):\n",
        "      #Run train step here\n",
        "      train_step(batch)\n",
        "      progbar.update(idx+1)\n",
        "\n",
        "    #save checkpoints\n",
        "    if epoch%10 == 0:\n",
        "      checkpoint.save(file_prefix=checkpoint_prefix)\n"
      ]
    },
    {
      "cell_type": "markdown",
      "metadata": {
        "id": "ki6TGp0tzCr7"
      },
      "source": [
        "## 5.5 Train the model"
      ]
    },
    {
      "cell_type": "code",
      "execution_count": null,
      "metadata": {
        "id": "Hs5KGInKIYRm"
      },
      "outputs": [],
      "source": [
        "EPOCHS=50"
      ]
    },
    {
      "cell_type": "code",
      "execution_count": null,
      "metadata": {
        "id": "xs91D2NTIaUk",
        "colab": {
          "base_uri": "https://localhost:8080/"
        },
        "outputId": "1615609d-24a0-4620-b491-7d392db4b622"
      },
      "outputs": [
        {
          "output_type": "stream",
          "name": "stdout",
          "text": [
            "\n",
            " Epoch 1/50\n",
            "18/18 [==============================] - 15s 222ms/step\n",
            "\n",
            " Epoch 2/50\n",
            "18/18 [==============================] - 3s 198ms/step\n",
            "\n",
            " Epoch 3/50\n",
            "18/18 [==============================] - 3s 200ms/step\n",
            "\n",
            " Epoch 4/50\n",
            "18/18 [==============================] - 3s 199ms/step\n",
            "\n",
            " Epoch 5/50\n",
            "18/18 [==============================] - 3s 199ms/step\n",
            "\n",
            " Epoch 6/50\n",
            "18/18 [==============================] - 3s 200ms/step\n",
            "\n",
            " Epoch 7/50\n",
            "18/18 [==============================] - 4s 201ms/step\n",
            "\n",
            " Epoch 8/50\n",
            "18/18 [==============================] - 4s 201ms/step\n",
            "\n",
            " Epoch 9/50\n",
            "18/18 [==============================] - 4s 201ms/step\n",
            "\n",
            " Epoch 10/50\n",
            "18/18 [==============================] - 3s 200ms/step\n",
            "\n",
            " Epoch 11/50\n",
            "18/18 [==============================] - 4s 209ms/step\n",
            "\n",
            " Epoch 12/50\n",
            "18/18 [==============================] - 3s 200ms/step\n",
            "\n",
            " Epoch 13/50\n",
            "18/18 [==============================] - 4s 200ms/step\n",
            "\n",
            " Epoch 14/50\n",
            "18/18 [==============================] - 4s 201ms/step\n",
            "\n",
            " Epoch 15/50\n",
            "18/18 [==============================] - 4s 201ms/step\n",
            "\n",
            " Epoch 16/50\n",
            "18/18 [==============================] - 4s 202ms/step\n",
            "\n",
            " Epoch 17/50\n",
            "18/18 [==============================] - 4s 203ms/step\n",
            "\n",
            " Epoch 18/50\n",
            "18/18 [==============================] - 4s 203ms/step\n",
            "\n",
            " Epoch 19/50\n",
            "18/18 [==============================] - 4s 203ms/step\n",
            "\n",
            " Epoch 20/50\n",
            "18/18 [==============================] - 4s 203ms/step\n",
            "\n",
            " Epoch 21/50\n",
            "18/18 [==============================] - 4s 209ms/step\n",
            "\n",
            " Epoch 22/50\n",
            "18/18 [==============================] - 4s 204ms/step\n",
            "\n",
            " Epoch 23/50\n",
            "18/18 [==============================] - 4s 204ms/step\n",
            "\n",
            " Epoch 24/50\n",
            "18/18 [==============================] - 4s 205ms/step\n",
            "\n",
            " Epoch 25/50\n",
            "18/18 [==============================] - 4s 204ms/step\n",
            "\n",
            " Epoch 26/50\n",
            "18/18 [==============================] - 4s 205ms/step\n",
            "\n",
            " Epoch 27/50\n",
            "18/18 [==============================] - 4s 205ms/step\n",
            "\n",
            " Epoch 28/50\n",
            "18/18 [==============================] - 4s 206ms/step\n",
            "\n",
            " Epoch 29/50\n",
            "18/18 [==============================] - 4s 206ms/step\n",
            "\n",
            " Epoch 30/50\n",
            "18/18 [==============================] - 4s 207ms/step\n",
            "\n",
            " Epoch 31/50\n",
            "18/18 [==============================] - 4s 204ms/step\n",
            "\n",
            " Epoch 32/50\n",
            "18/18 [==============================] - 4s 206ms/step\n",
            "\n",
            " Epoch 33/50\n",
            "18/18 [==============================] - 4s 207ms/step\n",
            "\n",
            " Epoch 34/50\n",
            "18/18 [==============================] - 4s 208ms/step\n",
            "\n",
            " Epoch 35/50\n",
            "18/18 [==============================] - 4s 207ms/step\n",
            "\n",
            " Epoch 36/50\n",
            "18/18 [==============================] - 4s 208ms/step\n",
            "\n",
            " Epoch 37/50\n",
            "18/18 [==============================] - 4s 209ms/step\n",
            "\n",
            " Epoch 38/50\n",
            "18/18 [==============================] - 4s 209ms/step\n",
            "\n",
            " Epoch 39/50\n",
            "18/18 [==============================] - 4s 209ms/step\n",
            "\n",
            " Epoch 40/50\n",
            "18/18 [==============================] - 4s 209ms/step\n",
            "\n",
            " Epoch 41/50\n",
            "18/18 [==============================] - 4s 209ms/step\n",
            "\n",
            " Epoch 42/50\n",
            "18/18 [==============================] - 4s 210ms/step\n",
            "\n",
            " Epoch 43/50\n",
            "18/18 [==============================] - 4s 210ms/step\n",
            "\n",
            " Epoch 44/50\n",
            "18/18 [==============================] - 4s 210ms/step\n",
            "\n",
            " Epoch 45/50\n",
            "18/18 [==============================] - 4s 210ms/step\n",
            "\n",
            " Epoch 46/50\n",
            "18/18 [==============================] - 4s 210ms/step\n",
            "\n",
            " Epoch 47/50\n",
            "18/18 [==============================] - 4s 211ms/step\n",
            "\n",
            " Epoch 48/50\n",
            "18/18 [==============================] - 4s 211ms/step\n",
            "\n",
            " Epoch 49/50\n",
            "18/18 [==============================] - 4s 211ms/step\n",
            "\n",
            " Epoch 50/50\n",
            "18/18 [==============================] - 4s 211ms/step\n"
          ]
        }
      ],
      "source": [
        "train(train_data,EPOCHS)"
      ]
    },
    {
      "cell_type": "markdown",
      "metadata": {
        "id": "WuQ-84LZzCr7"
      },
      "source": [
        "# 6. Evaluate Model"
      ]
    },
    {
      "cell_type": "markdown",
      "source": [
        "###Import Matrics"
      ],
      "metadata": {
        "id": "-j2xY9k49vxT"
      }
    },
    {
      "cell_type": "code",
      "execution_count": null,
      "metadata": {
        "id": "5A7PWJpWRozb"
      },
      "outputs": [],
      "source": [
        "#Import Precision and Recall\n",
        "from tensorflow.keras.metrics import Precision, Recall"
      ]
    },
    {
      "cell_type": "markdown",
      "source": [
        "### Make Predictions"
      ],
      "metadata": {
        "id": "UhARYret-C7T"
      }
    },
    {
      "cell_type": "markdown",
      "source": [],
      "metadata": {
        "id": "ukhKub7w-JyZ"
      }
    },
    {
      "cell_type": "code",
      "source": [
        "#Get a batch of test data\n",
        "test_input, test_val, y_true= test_data.as_numpy_iterator().next()"
      ],
      "metadata": {
        "id": "QqyPQob235GA"
      },
      "execution_count": null,
      "outputs": []
    },
    {
      "cell_type": "code",
      "source": [
        "#Make Prediction\n",
        "y_hat= siamese_model.predict([test_input,test_val])\n",
        "y_hat"
      ],
      "metadata": {
        "colab": {
          "base_uri": "https://localhost:8080/"
        },
        "id": "L4R_C9OZ4bGp",
        "outputId": "df4502dd-2dd3-4e36-c73f-68525eeddeec"
      },
      "execution_count": null,
      "outputs": [
        {
          "output_type": "execute_result",
          "data": {
            "text/plain": [
              "array([[9.9999785e-01],\n",
              "       [9.9999642e-01],\n",
              "       [4.4251388e-04],\n",
              "       [9.9998271e-01],\n",
              "       [2.2232820e-07],\n",
              "       [9.3910887e-05],\n",
              "       [7.7189989e-06],\n",
              "       [4.6459568e-06],\n",
              "       [9.9992752e-01],\n",
              "       [9.9980146e-01],\n",
              "       [9.9999988e-01],\n",
              "       [2.6236311e-08],\n",
              "       [5.6186423e-07],\n",
              "       [1.0000000e+00],\n",
              "       [1.0000000e+00],\n",
              "       [9.9970031e-01]], dtype=float32)"
            ]
          },
          "metadata": {},
          "execution_count": 68
        }
      ]
    },
    {
      "cell_type": "code",
      "source": [
        "#Post processing the result\n",
        "[1 if prediction>0.5 else 0 for prediction in y_hat]"
      ],
      "metadata": {
        "colab": {
          "base_uri": "https://localhost:8080/"
        },
        "id": "EhkCd0pB6yRA",
        "outputId": "85507b8d-ff4e-4ed4-f99b-5d8d89d583f2"
      },
      "execution_count": null,
      "outputs": [
        {
          "output_type": "execute_result",
          "data": {
            "text/plain": [
              "[1, 1, 0, 1, 0, 0, 0, 0, 1, 1, 1, 0, 0, 1, 1, 1]"
            ]
          },
          "metadata": {},
          "execution_count": 69
        }
      ]
    },
    {
      "cell_type": "code",
      "source": [
        "y_true"
      ],
      "metadata": {
        "colab": {
          "base_uri": "https://localhost:8080/"
        },
        "id": "Jj6cBol77eB4",
        "outputId": "0cc6ec31-d00b-4f8a-f484-0b3f67d4b4fc"
      },
      "execution_count": null,
      "outputs": [
        {
          "output_type": "execute_result",
          "data": {
            "text/plain": [
              "array([1., 1., 0., 1., 0., 0., 0., 0., 1., 1., 1., 0., 0., 1., 1., 1.],\n",
              "      dtype=float32)"
            ]
          },
          "metadata": {},
          "execution_count": 70
        }
      ]
    },
    {
      "cell_type": "markdown",
      "source": [
        "###Calculating Metrics"
      ],
      "metadata": {
        "id": "m8_YpCI7-ZiJ"
      }
    },
    {
      "cell_type": "code",
      "source": [
        "#Calculate Recall\n",
        "\n",
        "m= Recall()\n",
        "\n",
        "#Calculating the Recall Value\n",
        "\n",
        "m.update_state(y_true,y_hat)\n",
        "\n",
        "#Return Recall Result\n",
        "m.result().numpy()"
      ],
      "metadata": {
        "colab": {
          "base_uri": "https://localhost:8080/"
        },
        "id": "5bHkVH1X8CCI",
        "outputId": "4eee2f71-2a1f-4036-d20e-eff12a538ec6"
      },
      "execution_count": null,
      "outputs": [
        {
          "output_type": "execute_result",
          "data": {
            "text/plain": [
              "1.0"
            ]
          },
          "metadata": {},
          "execution_count": 71
        }
      ]
    },
    {
      "cell_type": "code",
      "source": [
        "# Calculate Precision\n",
        "\n",
        "m= Precision()\n",
        "m.update_state(y_true,y_hat)\n",
        "m.result().numpy()"
      ],
      "metadata": {
        "colab": {
          "base_uri": "https://localhost:8080/"
        },
        "id": "uMYyBok28-We",
        "outputId": "d0999b51-28d9-493f-9901-d3ff6aba0fa9"
      },
      "execution_count": null,
      "outputs": [
        {
          "output_type": "execute_result",
          "data": {
            "text/plain": [
              "1.0"
            ]
          },
          "metadata": {},
          "execution_count": 72
        }
      ]
    },
    {
      "cell_type": "markdown",
      "source": [
        "###Visualize Result"
      ],
      "metadata": {
        "id": "d1qWNrlh_EXR"
      }
    },
    {
      "cell_type": "code",
      "source": [
        "plt.figure(figsize=(8,8))\n",
        "\n",
        "#Set first Subplot\n",
        "plt.subplot(1,2,1)\n",
        "plt.imshow(test_input[6])\n",
        "#Set second subplot\n",
        "plt.subplot(1,2,2)\n",
        "plt.imshow(test_val[6])\n",
        "plt.show()"
      ],
      "metadata": {
        "colab": {
          "base_uri": "https://localhost:8080/",
          "height": 254
        },
        "id": "27Ded0sw_IVo",
        "outputId": "74d4c7a9-c611-4bd9-dca0-fa89cf031650"
      },
      "execution_count": null,
      "outputs": [
        {
          "output_type": "display_data",
          "data": {
            "text/plain": [
              "<Figure size 576x576 with 2 Axes>"
            ],
            "image/png": "[encoded data removed]"
          },
          "metadata": {
            "needs_background": "light"
          }
        }
      ]
    },
    {
      "cell_type": "markdown",
      "metadata": {
        "id": "CBpYNF2IzCr7"
      },
      "source": [
        "# 7. Save Model"
      ]
    },
    {
      "cell_type": "code",
      "source": [
        "# Save weights\n",
        "siamese_model.save('siamesemodelv2.h5')"
      ],
      "metadata": {
        "id": "vipH68P6TZJj"
      },
      "execution_count": null,
      "outputs": []
    },
    {
      "cell_type": "code",
      "source": [
        "# Reload model \n",
        "siamese_model = tf.keras.models.load_model('siamesemodelv2.h5', \n",
        "                                   custom_objects={'L1Dist':L1Dist, 'BinaryCrossentropy':tf.losses.BinaryCrossentropy})"
      ],
      "metadata": {
        "colab": {
          "base_uri": "https://localhost:8080/"
        },
        "id": "wZyIiy7uTkUv",
        "outputId": "96f1b94a-2f4f-4e07-c783-27ddae5f2250"
      },
      "execution_count": null,
      "outputs": [
        {
          "output_type": "stream",
          "name": "stderr",
          "text": [
            "WARNING:tensorflow:No training configuration found in the save file, so the model was *not* compiled. Compile it manually.\n"
          ]
        }
      ]
    },
    {
      "cell_type": "code",
      "source": [
        "# Make predictions with reloaded model\n",
        "siamese_model.predict([test_input, test_val])"
      ],
      "metadata": {
        "colab": {
          "base_uri": "https://localhost:8080/"
        },
        "id": "14BnHUlGToub",
        "outputId": "b762fd8a-487b-4a1b-9c88-dcc38c239492"
      },
      "execution_count": null,
      "outputs": [
        {
          "output_type": "execute_result",
          "data": {
            "text/plain": [
              "array([[9.9999785e-01],\n",
              "       [9.9999642e-01],\n",
              "       [4.4251388e-04],\n",
              "       [9.9998271e-01],\n",
              "       [2.2232820e-07],\n",
              "       [9.3910887e-05],\n",
              "       [7.7189989e-06],\n",
              "       [4.6459568e-06],\n",
              "       [9.9992752e-01],\n",
              "       [9.9980146e-01],\n",
              "       [9.9999988e-01],\n",
              "       [2.6236311e-08],\n",
              "       [5.6186423e-07],\n",
              "       [1.0000000e+00],\n",
              "       [1.0000000e+00],\n",
              "       [9.9970031e-01]], dtype=float32)"
            ]
          },
          "metadata": {},
          "execution_count": 76
        }
      ]
    },
    {
      "cell_type": "markdown",
      "metadata": {
        "id": "JvH1_fy0zCr7"
      },
      "source": [
        "# 8. Real Time Test"
      ]
    }
  ],
  "metadata": {
    "accelerator": "GPU",
    "colab": {
      "collapsed_sections": [],
      "provenance": []
    },
    "kernelspec": {
      "display_name": "Python 3 (ipykernel)",
      "language": "python",
      "name": "python3"
    },
    "language_info": {
      "codemirror_mode": {
        "name": "ipython",
        "version": 3
      },
      "file_extension": ".py",
      "mimetype": "text/x-python",
      "name": "python",
      "nbconvert_exporter": "python",
      "pygments_lexer": "ipython3",
      "version": "3.8.10"
    },
    "gpuClass": "standard"
  },
  "nbformat": 4,
  "nbformat_minor": 0
}